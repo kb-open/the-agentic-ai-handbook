{
  "cells": [
    {
      "cell_type": "markdown",
      "metadata": {
        "id": "view-in-github",
        "colab_type": "text"
      },
      "source": [
        "<a href=\"https://colab.research.google.com/github/dipanjanS/mastering-intelligent-agents-langgraph-workshop-dhs2025/blob/main/Module-2-Building-Simple-Agentic-AI-Systems/M2LC1_Build_a_Tool_Use_ReAct_Agentic_AI_System_with_LangGraph.ipynb\" target=\"_parent\"><img src=\"https://colab.research.google.com/assets/colab-badge.svg\" alt=\"Open In Colab\"/></a>"
      ]
    },
    {
      "cell_type": "markdown",
      "id": "1101434d",
      "metadata": {
        "id": "1101434d"
      },
      "source": [
        "\n",
        "# Build a Tool-Use ReAct Agentic AI System with LangGraph"
      ]
    },
    {
      "cell_type": "markdown",
      "source": [
        "## Problem Statement\n",
        "\n",
        "In this notebook, we will be building an Agentic AI system — HealthBuddy — using LangGraph with built-in utility functions. This system will act as an intelligent assistant that can:\n",
        "\n",
        "- Understand user queries about health\n",
        "- Research using web and arXiv tools\n",
        "- Recommend appropriate doctors based on user symptoms\n",
        "\n",
        "We will follow the **ReAct principle** (Reason + Act) to let the agent think, use tools when needed, observe results, and provide a well-formed final answer. Instead of relying on built-in LLM knowledge alone, the agent will use **external tools** to gather accurate and helpful information before responding.\n",
        "\n",
        "\n",
        "---\n",
        "\n",
        "### Objective:\n",
        "\n",
        "Our goals in this notebook are:\n",
        "\n",
        "- **Build a ReAct-based Tool-Use Agent using LangGraph with built-in utility functions like `create_react_agent()`**\n",
        "- Equip the agent with multiple tools (web search, arXiv search, doctor recommendation)\n",
        "- Handle user queries end-to-end — from interpreting intent to delivering a useful, cited, and grounded response\n",
        "- Simulate a multi-step reasoning and tool-using workflow\n",
        "\n",
        "By the end of this notebook, we will have a working agent that can research a health query, gather relevant information, and offer advice including suggesting a doctor — all through structured decision-making and tool usage.\n",
        "\n",
        "### Agent Architecture:\n",
        "\n",
        "The following figure shows the agent architecture including all the components and the overall workflow\n",
        "\n",
        "![](https://i.imgur.com/efDt1tq.png)\n"
      ],
      "metadata": {
        "id": "7itPJfyXgfas"
      },
      "id": "7itPJfyXgfas"
    },
    {
      "cell_type": "code",
      "execution_count": null,
      "id": "9bf7b469",
      "metadata": {
        "id": "9bf7b469"
      },
      "outputs": [],
      "source": [
        "!pip install langgraph==0.6.5 langchain==0.3.27 langchain-openai==0.3.29 langchain-community==0.3.27 arxiv==2.2.0 pymupdf==1.26.3 --quiet"
      ]
    },
    {
      "cell_type": "markdown",
      "source": [
        "## Load Necessary Dependencies"
      ],
      "metadata": {
        "id": "BORSQbHHsVsq"
      },
      "id": "BORSQbHHsVsq"
    },
    {
      "cell_type": "code",
      "source": [
        "import json\n",
        "from langchain_openai import ChatOpenAI\n",
        "from langchain_core.tools import tool\n",
        "from langchain_core.messages import SystemMessage, HumanMessage\n",
        "from langgraph.prebuilt import create_react_agent\n",
        "from IPython.display import display, Image, Markdown"
      ],
      "metadata": {
        "id": "QQ_lWEMZxSmO"
      },
      "id": "QQ_lWEMZxSmO",
      "execution_count": null,
      "outputs": []
    },
    {
      "cell_type": "markdown",
      "source": [
        "## Setup Authentication and LLM Client\n",
        "\n",
        "Here we authenticate and connect to necessary LLM using OpenAI Authentication"
      ],
      "metadata": {
        "id": "crTRTYdTKxGv"
      },
      "id": "crTRTYdTKxGv"
    },
    {
      "cell_type": "code",
      "source": [
        "import os\n",
        "import getpass\n",
        "\n",
        "# OpenAI API Key (for chat & embeddings)\n",
        "if not os.environ.get(\"OPENAI_API_KEY\"):\n",
        "    os.environ[\"OPENAI_API_KEY\"] = getpass.getpass(\"Enter your OpenAI API key (https://platform.openai.com/account/api-keys):\\n\")\n",
        "\n",
        "# Tavily API Key (for web search)\n",
        "if not os.environ.get(\"TAVILY_API_KEY\"):\n",
        "    os.environ[\"TAVILY_API_KEY\"] = getpass.getpass(\"Enter your Tavily API key (https://app.tavily.com/home):\\n\")"
      ],
      "metadata": {
        "id": "KbYgtNWOv4P_"
      },
      "id": "KbYgtNWOv4P_",
      "execution_count": null,
      "outputs": []
    },
    {
      "cell_type": "code",
      "source": [
        "llm_client = ChatOpenAI(model_name=\"gpt-4o-mini\")"
      ],
      "metadata": {
        "id": "Sfd4PAxHxxRv"
      },
      "id": "Sfd4PAxHxxRv",
      "execution_count": null,
      "outputs": []
    },
    {
      "cell_type": "markdown",
      "source": [
        "## Preparing Database for Doctor Recommendations Tool\n",
        "\n",
        "In this section, we will create a small, in-memory database that contains information about doctors. This data will be used by our **Doctor Recommendation Tool**, which will help users find the right doctor based on their health query or symptoms.\n",
        "\n",
        "The database includes a list of doctors along with their:\n",
        "- Name\n",
        "- Specialization (e.g., Dermatology, Pediatrics, Cardiology)\n",
        "- Location\n",
        "- Availability\n",
        "- Contact information\n",
        "\n",
        "We are using a simple Python list of dictionaries to store the doctor data. This keeps it easy to understand and modify. In a real-world application, this would typically be replaced by a backend database like PostgreSQL, MongoDB, or an external API.\n",
        "\n",
        "We will build a tool later on to use this data to recommend doctors based on the user's needs — for example, suggesting a pediatrician for a child’s fever or a cardiologist for chest pain."
      ],
      "metadata": {
        "id": "yOuACuleCIjE"
      },
      "id": "yOuACuleCIjE"
    },
    {
      "cell_type": "code",
      "source": [
        "# loading our doctors dataset\n",
        "doctors_db = [\n",
        "    {\"name\": \"Dr. Janet Dyne\", \"specialization\": \"Endocrinology (Diabetes Care)\", \"available_timings\": \"10:00 AM - 1:00 PM\", \"location\": \"City Health Clinic\", \"contact\": \"janet.dyne@healthclinic.com\"},\n",
        "    {\"name\": \"Dr. Don Blake \", \"specialization\": \"Cardiology (Heart Specialist)\", \"available_timings\": \"2:00 PM - 5:00 PM\", \"location\": \"Metro Cardiac Center\", \"contact\": \"don.blake@metrocardiac.com\"},\n",
        "    {\"name\": \"Dr. Susan D'Souza\", \"specialization\": \"Oncology (Cancer Care)\", \"available_timings\": \"11:00 AM - 2:00 PM\", \"location\": \"Hope Cancer Institute\", \"contact\": \"susan.dsouza@hopecancer.org\"},\n",
        "    {\"name\": \"Dr. Matt Murdock\", \"specialization\": \"Psychiatry (Mental Health)\", \"available_timings\": \"4:00 PM - 7:00 PM\", \"location\": \"Mind Care Center\", \"contact\": \"matt.murdock@mindcare.com\"},\n",
        "    {\"name\": \"Dr. Dinah Lance\", \"specialization\": \"General Physician\", \"available_timings\": \"9:00 AM - 12:00 PM\", \"location\": \"Downtown Medical Center\", \"contact\": \"dinah.lance@downtownmed.com\"}\n",
        "]"
      ],
      "metadata": {
        "id": "hmVstsSUCj4s"
      },
      "id": "hmVstsSUCj4s",
      "execution_count": null,
      "outputs": []
    },
    {
      "cell_type": "markdown",
      "source": [
        "## Create Tools for AI Agent\n",
        "\n",
        "In this section, we will define the tools that our AI Agent will use to perform specific tasks.\n",
        "\n",
        "LangChain makes it easy to create and register tools using the `Tool` class. A tool includes:\n",
        "- A name and description\n",
        "- The python function to be called\n",
        "- An input schema that tells the model what arguments it can use\n",
        "\n",
        "When tools are defined properly, they help the model solve more complex problems by letting it take actions and use external data. This makes the system more useful and reliable.\n",
        "\n",
        "### 🧪 Example\n",
        "```python\n",
        "from langchain.tools import tool\n",
        "\n",
        "@tool\n",
        "def search_web(query: str) -> str:\n",
        "    \"\"\"Get live information for user queries from the web.\"\"\"\n",
        "    # assuming we have a google_search function implemented to search on google\n",
        "    return google_search(query)\n",
        "```\n",
        "\n",
        "These tools will allow the agent to retrieve information from our preloaded vector databases (web search and PubMed), as well as recommend doctors from our in-memory doctor database.\n",
        "\n",
        "The goal is to modularize the logic for different types of tasks into reusable components that can be invoked by the LLM when needed. These include:\n",
        "\n",
        "- A **Web Search Tool** that queries the web to get relevant information through web search\n",
        "- A **ArXiv Search Tool** that retrieves information from top research papers from arxiv.org relevant to the query  \n",
        "- A **Doctor Recommendation Tool** that finds suitable doctors based on user symptoms or needs\n",
        "\n",
        "This tool-based setup is essential for enabling agentic behavior, where the LLM reasons through a problem, decides which action to take, and requests to call the right tools to gather more information or perform a task.\n"
      ],
      "metadata": {
        "id": "lLmG5MF4_f_t"
      },
      "id": "lLmG5MF4_f_t"
    },
    {
      "cell_type": "code",
      "source": [
        "from langchain_community.utilities.tavily_search import TavilySearchAPIWrapper\n",
        "from langchain_community.retrievers import ArxivRetriever\n",
        "\n",
        "# Tool for web search on general health topics\n",
        "# Tavily Web Search\n",
        "tavily_search = TavilySearchAPIWrapper()\n",
        "\n",
        "@tool\n",
        "def search_web(query: str) -> list:\n",
        "    \"\"\"\n",
        "    Search the web for general or up-to-date information on healthcare topics.\n",
        "\n",
        "    Inputs:\n",
        "    - query (str): The search query string. Should describe the healthcare topic or information you want to find.\n",
        "\n",
        "    Outputs:\n",
        "    - list: A list of up to 3 formatted strings, each containing:\n",
        "        - Title of the search result\n",
        "        - Content extracted from the page\n",
        "        - Source URL\n",
        "    \"\"\"\n",
        "    results = tavily_search.raw_results(query=query, max_results=3, search_depth='advanced',\n",
        "                                        include_answer=False, include_raw_content=True)\n",
        "    docs = results['results']\n",
        "    docs = [doc for doc in docs if doc.get(\"raw_content\") is not None]\n",
        "    docs = ['## Title\\n'+doc['title']+'\\n\\n'+'## Content\\n'+doc['raw_content']+'\\n\\n'+'##Source\\n'+doc['url'] for doc in docs]\n",
        "    return docs\n",
        "\n",
        "\n",
        "# Tool for arXiv Search\n",
        "# arxiv search retriever\n",
        "arxiv_retriever = ArxivRetriever(\n",
        "    top_k_results=3,\n",
        "    get_full_documents=True,\n",
        "    doc_content_chars_max=20000\n",
        ")\n",
        "\n",
        "@tool\n",
        "def search_arxiv(query: str) -> list:\n",
        "    \"\"\"\n",
        "    Search arXiv for relevant scientific research papers and articles.\n",
        "\n",
        "    Inputs:\n",
        "    - query (str): The research topic or keywords to search for on arXiv.\n",
        "\n",
        "    Outputs:\n",
        "    - list: A list of up to 3 formatted strings, each containing:\n",
        "        - Title of the paper\n",
        "        - Summary of the paper\n",
        "        - Full content (truncated to maximum allowed characters)\n",
        "      Returns [\"No articles found for the given query.\"] if no matches are found.\n",
        "    \"\"\"\n",
        "    try:\n",
        "        results = arxiv_retriever.invoke(query)\n",
        "        if results:\n",
        "            articles = ['## Title\\n'+doc.metadata['Title']+'\\n\\n'+'## Summary\\n'+doc.metadata['Summary']+'\\n\\n'+'##Content\\n'+doc.page_content for doc in results]\n",
        "            return articles\n",
        "        else:\n",
        "            return [\"No articles found for the given query.\"]\n",
        "    except Exception as e:\n",
        "        return [f\"Error fetching arXiv articles: {str(e)}\"]\n",
        "\n",
        "\n",
        "@tool\n",
        "def recommend_doctor(query: str) -> dict:\n",
        "    \"\"\"\n",
        "    Recommend the most suitable doctor based on the user's symptoms or health-related query.\n",
        "\n",
        "    Inputs:\n",
        "    - query (str): A description of the patient's symptoms or healthcare needs.\n",
        "\n",
        "    Outputs:\n",
        "    - dict: A dictionary containing:\n",
        "        - \"recommended_doctor\": JSON-formatted details of the selected doctor from the `doctors_db`.\n",
        "          If the most suitable match cannot be determined, defaults to recommending the General Physician.\n",
        "    \"\"\"\n",
        "    doctors_list = str(doctors_db)\n",
        "    prompt = f\"\"\"You are an assistant helping recommend a doctor based on patient's health issues.\n",
        "\n",
        "                 Here is the list of available doctors:\n",
        "                {doctors_list}\n",
        "\n",
        "                Given the user's query: \"{query}\"\n",
        "\n",
        "                Choose the most suitable doctor from the list. Only pick one doctor.\n",
        "                Return only the selected doctor's information in JSON format (no markdown).\n",
        "                If not sure, recommend the General Physician.\n",
        "              \"\"\"\n",
        "\n",
        "    response = llm_client.invoke(prompt)\n",
        "    return {\"recommended_doctor\": response}"
      ],
      "metadata": {
        "id": "vd5MS0gX-TCD"
      },
      "id": "vd5MS0gX-TCD",
      "execution_count": null,
      "outputs": []
    },
    {
      "cell_type": "markdown",
      "source": [
        "## Define Tools to be Used by the Agent\n",
        "\n",
        "In this section, we define the tools that our AI agent will use when reasoning through user queries. These include:\n",
        "\n",
        "- `search_web`: To fetch general health-related information from the internet.\n",
        "- `search_arxiv`: To retrieve scientific research papers from arXiv.org.\n",
        "- `recommend_doctor`: To recommend a suitable doctor based on the user's symptoms.\n",
        "\n",
        "These tools are already defined and registered using the `@tool` decorator. Here, we simply collect them into a list to be fed into the agent function later on.\n"
      ],
      "metadata": {
        "id": "kBNA9LD2MQPt"
      },
      "id": "kBNA9LD2MQPt"
    },
    {
      "cell_type": "code",
      "execution_count": null,
      "id": "dfc8e72e",
      "metadata": {
        "id": "dfc8e72e"
      },
      "outputs": [],
      "source": [
        "# List of all tools that the LLM should be aware of\n",
        "# These tools were defined earlier using the @tool decorator\n",
        "tools = [search_web, search_arxiv, recommend_doctor]"
      ]
    },
    {
      "cell_type": "markdown",
      "source": [
        "## Define Agent Instructions Prompt\n",
        "\n",
        "To guide the LLM-based agent, we provide a custom system prompt that sets the role and behavior of the assistant.\n",
        "\n",
        "The prompt clearly instructs the agent to:\n",
        "- Act as a helpful healthcare assistant\n",
        "- Reason on input queries and do the following:\n",
        "  - Research the query using the most relevant tools (web, pubmed)\n",
        "  - Recommend a doctor only if appropriate\n",
        "\n",
        "This prompt plays a critical role in shaping how the agent reasons, decides when to call tools, and how to construct final responses. It supports ReAct-style behavior where the model reflects, takes actions (via tools), and continues reasoning."
      ],
      "metadata": {
        "id": "5hdJI9UPMWWi"
      },
      "id": "5hdJI9UPMWWi"
    },
    {
      "cell_type": "code",
      "source": [
        "# Instruction prompt for the overall Agent\n",
        "AGENT_PROMPT_TXT = r\"\"\"You are an agent designed to act as an expert in researching on medical symptoms\n",
        "and also recommend relevant doctors for booking appointments.\n",
        "Also remember the current year is 2025 and use the same for all search queries when no specific dates are mentioned.\n",
        "\n",
        "Given an input user query call relevant tools and give the most appropriate response.\n",
        "Follow some of these guidelines to help you make more informed decisions:\n",
        "  - If the user's query specifies recommending a doctor only then recommend an appropriate doctor\n",
        "  - If the user is researching on detailed and specific aspects around symptoms, treatments and other aspects related to healthcare\n",
        "  use both search_web and search_arxiv tools to get comprehensive information and then give a well-structured response\n",
        "  - If the user is just looking for general information around healthcare then web search is enough\n",
        "  - Use search_arxiv tool only if the query is related to information which might be found in research papers\n",
        "  - Response should include cited source links and \\ or arXiv Article Title, Publication Dates if available\n",
        "  - If recommending doctors then use the recommend_doctor and show detailed information in a nice structured way and recommend them to book an appointment via email\n",
        "  - Politely decline answering any queries not related to medical or healthcare information\n",
        "\"\"\"\n",
        "\n",
        "AGENT_SYS_PROMPT = SystemMessage(content=AGENT_PROMPT_TXT)"
      ],
      "metadata": {
        "id": "1e9-BJlvU8e1"
      },
      "id": "1e9-BJlvU8e1",
      "execution_count": null,
      "outputs": []
    },
    {
      "cell_type": "markdown",
      "source": [
        "## Create our Tool-Use AI Agent\n",
        "\n",
        "Using the tools, prompt, and LLM setup, we now create the actual **Tool-Use Agent** using LangChain’s built-in `create_react_agent()` utility function.\n",
        "\n",
        "This creates a simple ReAct-style agent capable of:\n",
        "- Receiving a user query\n",
        "- Reasoning on next steps\n",
        "- Calling the appropriate tool(s) if needed\n",
        "- Observing tool outputs\n",
        "- Returning a final answer\n",
        "\n",
        "This step brings together everything we’ve built so far: tools, instructions, and reasoning logic into a functioning agentic loop."
      ],
      "metadata": {
        "id": "WhkzHIRzMgrh"
      },
      "id": "WhkzHIRzMgrh"
    },
    {
      "cell_type": "code",
      "execution_count": null,
      "id": "4af2257a",
      "metadata": {
        "id": "4af2257a"
      },
      "outputs": [],
      "source": [
        "# Create our agent using tools, LLM and instruction prompt\n",
        "healthbuddy_agent = create_react_agent(model=llm_client,\n",
        "                                       tools=tools,\n",
        "                                       prompt=AGENT_SYS_PROMPT)"
      ]
    },
    {
      "cell_type": "markdown",
      "source": [
        "## View our Agent Flow\n",
        "\n",
        "Note to UHG\\Optum: Please test the following line, if this errors out we will just display with a static image (as this probably uses mermaid.live to render the diagram which might use internet - not totally sure)"
      ],
      "metadata": {
        "id": "mdCJxfRuMrQe"
      },
      "id": "mdCJxfRuMrQe"
    },
    {
      "cell_type": "code",
      "source": [
        "display(Image(healthbuddy_agent.get_graph().draw_mermaid_png()))"
      ],
      "metadata": {
        "id": "T64bs4ieMt3R"
      },
      "id": "T64bs4ieMt3R",
      "execution_count": null,
      "outputs": []
    },
    {
      "cell_type": "markdown",
      "source": [
        "## Build Utility Function to Stream Agent Results\n",
        "\n",
        "We define a helper function to stream the step-by-step output of the agent. This makes it easier to trace:\n",
        "- What the agent doing in each step\n",
        "- Which tool it decides to call\n",
        "- What response it gets from that tool\n",
        "- How it forms the final reply\n",
        "\n",
        "Streaming output is helpful when evaluating multi-step reasoning and debugging tool use in real time."
      ],
      "metadata": {
        "id": "jQV4v8JANean"
      },
      "id": "jQV4v8JANean"
    },
    {
      "cell_type": "code",
      "source": [
        "# get agent streaming utils\n",
        "!gdown 1dSyjcjlFoZpYEqv4P9Oi0-kU2gIoolMB"
      ],
      "metadata": {
        "id": "6hj_ysrGVEU2"
      },
      "id": "6hj_ysrGVEU2",
      "execution_count": null,
      "outputs": []
    },
    {
      "cell_type": "code",
      "source": [
        "from agent_utils import format_message\n",
        "\n",
        "# Utility function to call the agent and stream its step-by-step reasoning\n",
        "def call_agent(agent, query, verbose=False):\n",
        "\n",
        "    # Stream the agent's execution with the given query\n",
        "    for event in agent.stream(\n",
        "        {\"messages\": [HumanMessage(content=query)]}, # input prompt\n",
        "        stream_mode='values'  # Stream output as intermediate values\n",
        "    ):\n",
        "        # If verbose is enabled, print each intermediate message step-by-step\n",
        "        if verbose:\n",
        "            format_message(event[\"messages\"][-1])\n",
        "\n",
        "    # Display the final response from the agent as Markdown\n",
        "    print('\\n\\nFinal Response:\\n')\n",
        "    display(Markdown(event[\"messages\"][-1].content))\n",
        "\n",
        "    # Return the overall event messages for optional downstream use\n",
        "    return event[\"messages\"]\n"
      ],
      "metadata": {
        "id": "WrCBZs3YffCl"
      },
      "id": "WrCBZs3YffCl",
      "execution_count": null,
      "outputs": []
    },
    {
      "cell_type": "markdown",
      "source": [
        "## Test out our Agent!\n",
        "\n",
        "In this final section, we run a complete test of our Tool-Use AI Agent by passing it a sample health-related query.\n",
        "\n",
        "We observe how the agent:\n",
        "- Interprets the query\n",
        "- Decides which tool(s) to use (if any)\n",
        "- Executes tool calls\n",
        "- Streams the intermediate steps and final output"
      ],
      "metadata": {
        "id": "-5_CbU32NmaA"
      },
      "id": "-5_CbU32NmaA"
    },
    {
      "cell_type": "code",
      "execution_count": null,
      "id": "5435f97e",
      "metadata": {
        "id": "5435f97e"
      },
      "outputs": [],
      "source": [
        "# Example usage\n",
        "query = \"what are the latest methods for diabetes management and recommend a doctor please\"\n",
        "result = call_agent(healthbuddy_agent, query, verbose=True)"
      ]
    },
    {
      "cell_type": "code",
      "source": [
        "# inspect all agent events separately\n",
        "for event in result:\n",
        "    format_message(event)"
      ],
      "metadata": {
        "id": "bx2x61NPE56t"
      },
      "id": "bx2x61NPE56t",
      "execution_count": null,
      "outputs": []
    },
    {
      "cell_type": "code",
      "source": [
        "# Example usage\n",
        "query = \"I am having panic attacks, what could I do? get detailed comprehensive information please\"\n",
        "result = call_agent(healthbuddy_agent, query, verbose=True)"
      ],
      "metadata": {
        "id": "UwcGu13kgqJs"
      },
      "id": "UwcGu13kgqJs",
      "execution_count": null,
      "outputs": []
    },
    {
      "cell_type": "code",
      "source": [
        "# Example usage without printing detailed log messages\n",
        "query = \"I am having panic attacks, please recommend a right doctor\"\n",
        "result = call_agent(healthbuddy_agent, query, verbose=False)"
      ],
      "metadata": {
        "id": "2BkQdNUTfw0H"
      },
      "id": "2BkQdNUTfw0H",
      "execution_count": null,
      "outputs": []
    },
    {
      "cell_type": "code",
      "source": [
        "queries = [\n",
        "    'Patient 001: Reported panic attacks - please assign doctor',\n",
        "    'Patient 003: Diabetes checkup - please assign doctor',\n",
        "    'Patien 004: Has the flu - please assign doctor'\n",
        "]"
      ],
      "metadata": {
        "id": "qgEtBwAmsCAh"
      },
      "id": "qgEtBwAmsCAh",
      "execution_count": null,
      "outputs": []
    },
    {
      "cell_type": "code",
      "source": [
        "results = [call_agent(healthbuddy_agent, query, verbose=False) for query in queries]"
      ],
      "metadata": {
        "id": "4ekAJQZlsSme"
      },
      "id": "4ekAJQZlsSme",
      "execution_count": null,
      "outputs": []
    },
    {
      "cell_type": "code",
      "source": [
        "import pandas as pd\n",
        "pd.set_option('display.max_colwidth', None)\n",
        "res_df = pd.DataFrame({'query': queries,\n",
        "                       'response': [item[-1].content for item in results]})\n",
        "res_df"
      ],
      "metadata": {
        "id": "Pxy_hmFgsY4r"
      },
      "id": "Pxy_hmFgsY4r",
      "execution_count": null,
      "outputs": []
    }
  ],
  "metadata": {
    "colab": {
      "provenance": [],
      "include_colab_link": true
    },
    "language_info": {
      "name": "python"
    },
    "kernelspec": {
      "name": "python3",
      "display_name": "Python 3"
    }
  },
  "nbformat": 4,
  "nbformat_minor": 5
}
{
  "nbformat": 4,
  "nbformat_minor": 0,
  "metadata": {
    "colab": {
      "provenance": [],
      "authorship_tag": "ABX9TyNbNkuCyEvk5+WjR5Ox5Lhq",
      "include_colab_link": true
    },
    "kernelspec": {
      "name": "python3",
      "display_name": "Python 3"
    },
    "language_info": {
      "name": "python"
    }
  },
  "cells": [
    {
      "cell_type": "markdown",
      "metadata": {
        "id": "view-in-github",
        "colab_type": "text"
      },
      "source": [
        "<a href=\"https://colab.research.google.com/github/dipanjanS/mastering-intelligent-agents-langgraph-workshop-dhs2025/blob/main/Module-2-Building-Simple-Agentic-AI-Systems/M2LC3_Build_a_Text2SQL_Agentic_AI_System_with_LangGraph.ipynb\" target=\"_parent\"><img src=\"https://colab.research.google.com/assets/colab-badge.svg\" alt=\"Open In Colab\"/></a>"
      ]
    },
    {
      "cell_type": "markdown",
      "source": [
        "# Build a Text2SQL  Agentic AI System with LangGraph"
      ],
      "metadata": {
        "id": "1kiH8lf1y4sD"
      }
    },
    {
      "cell_type": "markdown",
      "source": [
        "### Building a Text2SQL Agentic AI System\n",
        "\n",
        "In this project, we will design a **Text2SQL Agentic AI System** to enhance the interaction with databases using natural language queries. This workflow will leverage **LangGraph**, and build the agent from scratch. The workflow consists of the following components:\n",
        "\n",
        "1. **Agent System Prompt**: The agent is designed to interpret user questions and generate syntactically correct SQL queries. Key rules include:\n",
        "   - Limiting results to at most 10 unless specified by the user.\n",
        "   - Querying only relevant columns instead of retrieving all columns from a table.\n",
        "   - Ensuring plain text SQL query generation without additional formatting or code blocks.\n",
        "\n",
        "2. **SQL Database Tools**: The system uses tools to interact with the database schema and validate queries:\n",
        "   - **DB_QUERY**: Executes the generated SQL query.\n",
        "   - **DB_SCHEMA**: Fetches the schema details of the database.\n",
        "   - **DB_LIST_TABLES**: Lists all tables in the database.\n",
        "   - **DB_QUERY_CHECKER**: Validates the correctness of the SQL query before execution.\n",
        "\n",
        "3. **SQL Database Engine**: Executes the validated SQL queries and retrieves the required data from the database.\n",
        "\n",
        "4. **ReAct Reasoning Framework**: The agent combines reasoning with actions to ensure accurate query formulation and execution.\n",
        "\n",
        "5. **Final Response**: The results are processed and returned to the user in a human-friendly format.\n",
        "\n",
        "By using LangGraph, this system ensures a more reliable, efficient, and user-friendly interaction with SQL databases, making it easier to extract meaningful insights from structured data.\n",
        "\n",
        "![](https://i.imgur.com/4PNKql9.png)"
      ],
      "metadata": {
        "id": "NYBpZTjLnEXb"
      }
    },
    {
      "cell_type": "markdown",
      "source": [
        "## Install OpenAI, LangChain and LangGraph dependencies"
      ],
      "metadata": {
        "id": "L1KvMtf54l0d"
      }
    },
    {
      "cell_type": "code",
      "source": [
        "!pip install langgraph==0.6.4 langchain==0.3.27 langchain-openai==0.3.29 langchain-community==0.3.27 --quiet"
      ],
      "metadata": {
        "id": "2evPp14fy258"
      },
      "execution_count": null,
      "outputs": []
    },
    {
      "cell_type": "markdown",
      "source": [
        "## Install SQLite Server"
      ],
      "metadata": {
        "id": "ZplSNy_1_O8K"
      }
    },
    {
      "cell_type": "code",
      "source": [
        "!apt-get install sqlite3 -y"
      ],
      "metadata": {
        "id": "AakmY6B_zYte"
      },
      "execution_count": null,
      "outputs": []
    },
    {
      "cell_type": "markdown",
      "source": [
        "## Setup Authentication and LLM Client\n",
        "\n",
        "Here we authenticate and connect to necessary LLM Clients using OpenAI Authentication"
      ],
      "metadata": {
        "id": "crTRTYdTKxGv"
      }
    },
    {
      "cell_type": "code",
      "source": [
        "import os\n",
        "import getpass\n",
        "\n",
        "# OpenAI API Key (for chat & embeddings)\n",
        "if not os.environ.get(\"OPENAI_API_KEY\"):\n",
        "    os.environ[\"OPENAI_API_KEY\"] = getpass.getpass(\"Enter your OpenAI API key (https://platform.openai.com/account/api-keys):\\n\")"
      ],
      "metadata": {
        "id": "KbYgtNWOv4P_"
      },
      "execution_count": null,
      "outputs": []
    },
    {
      "cell_type": "markdown",
      "source": [
        "## Get SQL DB"
      ],
      "metadata": {
        "id": "KCxfzpMp12v1"
      }
    },
    {
      "cell_type": "code",
      "source": [
        "# in case of issues download from https://drive.google.com/file/d/1_BJL-X6I5RTQjFc5WySKNSoFHkb1EFc8/view?usp=sharing and upload\n",
        "!gdown 1_BJL-X6I5RTQjFc5WySKNSoFHkb1EFc8"
      ],
      "metadata": {
        "id": "c_EPCL4zIHDF"
      },
      "execution_count": null,
      "outputs": []
    },
    {
      "cell_type": "markdown",
      "source": [
        "## Create Operational Insights Database"
      ],
      "metadata": {
        "id": "AmkRn5lb2A-g"
      }
    },
    {
      "cell_type": "code",
      "source": [
        "!sqlite3 --version"
      ],
      "metadata": {
        "id": "8_hWe_1Lq5ve"
      },
      "execution_count": null,
      "outputs": []
    },
    {
      "cell_type": "code",
      "source": [
        "!sqlite3 operations_insights.db \"SELECT name FROM sqlite_master WHERE type='table';\""
      ],
      "metadata": {
        "id": "8JLlJq6DvghH"
      },
      "execution_count": null,
      "outputs": []
    },
    {
      "cell_type": "code",
      "source": [
        "%%bash\n",
        "sqlite3 operations_insights.db <<EOF\n",
        ".headers on\n",
        ".mode column\n",
        "SELECT * FROM Department LIMIT 10;\n",
        "EOF"
      ],
      "metadata": {
        "id": "reeYrrrTvtNG"
      },
      "execution_count": null,
      "outputs": []
    },
    {
      "cell_type": "code",
      "source": [
        "from langchain_community.utilities import SQLDatabase\n",
        "\n",
        "db = SQLDatabase.from_uri(\"sqlite:///operations_insights.db\")\n",
        "db"
      ],
      "metadata": {
        "id": "wN0hfytfqOcx"
      },
      "execution_count": null,
      "outputs": []
    },
    {
      "cell_type": "code",
      "source": [
        "print(db.dialect)\n",
        "print(db.get_usable_table_names())"
      ],
      "metadata": {
        "id": "iQsxearCqOfT"
      },
      "execution_count": null,
      "outputs": []
    },
    {
      "cell_type": "markdown",
      "source": [
        "## 🧠 Overview of the Operations Insights Database\n",
        "\n",
        "In this project, we will utilize an **Operations Insights Database** to demonstrate the capabilities of a Text2SQL workflow designed for operational diagnostics in enterprise workflows. The database schema includes the following entities and relationships:\n",
        "\n",
        "1. **Department**: Contains details of business departments such as Finance Operations, Procurement, Claims Processing, etc.\n",
        "\n",
        "2. **Workflow**: Represents business processes (e.g., Invoice Processing, Vendor Onboarding) and links them to departments.\n",
        "\n",
        "3. **AuditLog**: Tracks historical audit entries including SLA issues, root causes, and recommended remediations, typically at a quarterly level.\n",
        "\n",
        "4. **RoutingGap**: Captures live unresolved exceptions or routing failures in workflows, including severity, age, and status.\n",
        "\n",
        "5. **FollowUpAction**: Logs corrective actions assigned to departments to resolve specific routing issues, with assignees and due dates.\n",
        "\n",
        "### 🔄 Relationships:\n",
        "- A **Department** can own multiple **Workflows**.\n",
        "- A **Workflow** can have multiple **AuditLog** entries and **RoutingGaps**.\n",
        "- A **RoutingGap** may result in one or more **FollowUpActions**.\n",
        "- **FollowUpActions** are assigned by **Department** and linked to a specific **RoutingGap**.\n",
        "\n",
        "This database schema is ideal for powering an agent that supports:\n",
        "- Workflow audit analysis\n",
        "- SLA breach diagnostics\n",
        "- Routing exception monitoring\n",
        "- Action tracking and reporting\n",
        "\n",
        "The agent can convert natural language questions into SQL queries to retrieve relevant records and offer insights into enterprise process health.\n",
        "\n",
        "\n",
        "\n",
        "![](https://i.imgur.com/O20Ds8c.png)"
      ],
      "metadata": {
        "id": "3YZF_3Qr2Fvr"
      }
    },
    {
      "cell_type": "code",
      "source": [
        "db.run(\"SELECT * FROM Department LIMIT 10;\", include_columns=True)"
      ],
      "metadata": {
        "id": "6DDHRqCjqOhp"
      },
      "execution_count": null,
      "outputs": []
    },
    {
      "cell_type": "code",
      "source": [
        "db.run(\"SELECT * FROM Workflow LIMIT 10;\", include_columns=True)"
      ],
      "metadata": {
        "id": "HqdauDCFJ87w"
      },
      "execution_count": null,
      "outputs": []
    },
    {
      "cell_type": "code",
      "source": [
        "db.run(\"SELECT * FROM AuditLog LIMIT 10;\", include_columns=True)"
      ],
      "metadata": {
        "id": "FrbQ-QpjTrJI"
      },
      "execution_count": null,
      "outputs": []
    },
    {
      "cell_type": "code",
      "source": [
        "db.run(\"SELECT * FROM RoutingGap LIMIT 10;\", include_columns=True)"
      ],
      "metadata": {
        "id": "xmvqubY3TrRf"
      },
      "execution_count": null,
      "outputs": []
    },
    {
      "cell_type": "code",
      "source": [
        "db.run(\"SELECT * FROM FollowUpAction LIMIT 10;\", include_columns=True)"
      ],
      "metadata": {
        "id": "0BQlPdRMLgZN"
      },
      "execution_count": null,
      "outputs": []
    },
    {
      "cell_type": "code",
      "source": [
        "print(db.get_table_info(table_names=['Department', 'Workflow']))"
      ],
      "metadata": {
        "id": "mNSPx5MEI8Ph"
      },
      "execution_count": null,
      "outputs": []
    },
    {
      "cell_type": "markdown",
      "source": [
        "## Load up SQL Tools\n",
        "\n",
        "The system uses tools to interact with the database schema and validate queries:\n",
        "   - **DB_QUERY**: Executes the generated SQL query.\n",
        "   - **DB_SCHEMA**: Fetches the schema details of the database.\n",
        "   - **DB_LIST_TABLES**: Lists all tables in the database.\n",
        "   - **DB_QUERY_CHECKER**: Validates the correctness of the SQL query before execution.\n",
        "\n",
        "![](https://i.imgur.com/iVSrFE3.png)   "
      ],
      "metadata": {
        "id": "-jtVDw-tIS1b"
      }
    },
    {
      "cell_type": "code",
      "source": [
        "from langchain_community.agent_toolkits import SQLDatabaseToolkit\n",
        "from langchain_openai import ChatOpenAI\n",
        "\n",
        "llm = ChatOpenAI(model=\"gpt-4o-mini\", temperature=0)\n",
        "sql_toolkit = SQLDatabaseToolkit(db=db, llm=llm)\n",
        "sql_tools = sql_toolkit.get_tools()\n",
        "\n",
        "sql_tools"
      ],
      "metadata": {
        "id": "a--7sXgWix3m"
      },
      "execution_count": null,
      "outputs": []
    },
    {
      "cell_type": "code",
      "source": [
        "for tool in sql_tools:\n",
        "    print(tool.name, '->', tool.description)"
      ],
      "metadata": {
        "id": "CTBDaNlMj_wI"
      },
      "execution_count": null,
      "outputs": []
    },
    {
      "cell_type": "code",
      "source": [
        "llm_with_tools = llm.bind_tools(tools=sql_tools)"
      ],
      "metadata": {
        "id": "HPLeNteqL-Jb"
      },
      "execution_count": null,
      "outputs": []
    },
    {
      "cell_type": "markdown",
      "source": [
        "## Create ReAct Agent Instruction Prompt"
      ],
      "metadata": {
        "id": "MJGale7mIwFH"
      }
    },
    {
      "cell_type": "code",
      "source": [
        "from langchain_core.messages import SystemMessage\n",
        "\n",
        "AGENT_INSTRUCTIONS = r\"\"\"\n",
        "You are an agent designed to interact with a SQLite database that tracks operational audits, workflow gaps,\n",
        "and follow-up actions in an enterprise context.\n",
        "\n",
        "You must generate syntactically correct SQL queries and then use them to answer user questions.\n",
        "\n",
        "---\n",
        "\n",
        "The database has the following important relationships:\n",
        "\n",
        "- `Department(DepartmentID, Name)`\n",
        "  → Maps department names (e.g., Finance Operations)\n",
        "\n",
        "- `Workflow(WorkflowID, Name, DepartmentID)`\n",
        "  → Links specific workflows to departments\n",
        "\n",
        "- `AuditLog(AuditID, WorkflowID, Quarter, Issue, RootCause, Recommendation)`\n",
        "  → Stores historical SLA failures, their causes and recommended remediations\n",
        "\n",
        "- `RoutingGap(GapID, WorkflowID, Description, AgeHours, Severity, Status)`\n",
        "  → Lists unresolved operational issues in workflows\n",
        "\n",
        "- `FollowUpAction(ActionID, GapID, DepartmentID, AssignedTo, ActionDescription, DueDate, Status)`\n",
        "  → Tracks who is assigned to fix what, and by when\n",
        "\n",
        "---\n",
        "\n",
        "Use JOINs to resolve cross-table queries. For example:\n",
        "- To get all routing gaps for a department, join: `RoutingGap → Workflow → Department`\n",
        "- To retrieve follow-up actions by department, join: `FollowUpAction → Department`\n",
        "- To investigate audit reasons for delays, join: `AuditLog → Workflow → Department`\n",
        "\n",
        "---\n",
        "\n",
        "Important Instructions for a typical flow:\n",
        "- Start by listing the available tables ( use `sql_db_list_tables` tool) to understand what tables are there\n",
        "- Then inspect relevant table schemas using (`sql_db_schema` tool) based on your understanding of the query\n",
        "- Only query relevant fields; never use `SELECT *`\n",
        "- Always limit the result to 10 rows unless otherwise specified\n",
        "- Always verify your SQL syntax using the `sql_db_query_checker` tool before execution\n",
        "- Finally use the `sql_db_query` to execute your SQL query on the database and get relevant information\n",
        "- Never generate INSERT, UPDATE, DELETE, or DROP statements\n",
        "\n",
        "---\n",
        "\n",
        "Output Format:\n",
        "- Using above instructions create the final SQL query **as plain text**, no code blocks, no SQL markers or markdown and execute it\n",
        "- Analyze results and create your final response based on the user query.\n",
        "- Response should be easy to understand for the user, only use context from the results, do not add unnecessary suggestions out of context.\n",
        "- Escape markdown-sensitive characters (e.g. $ → \\$) when presenting the final response\n",
        "- Do NOT include SQL queries in the final response\n",
        "\n",
        "Example query:\n",
        "SELECT Issue, RootCause FROM AuditLog A JOIN Workflow W ON A.WorkflowID = W.WorkflowID JOIN Department D ON W.DepartmentID = D.DepartmentID WHERE D.Name = 'Procurement & Vendor Mgmt' LIMIT 10\n",
        "\"\"\"\n",
        "\n",
        "SYS_PROMPT = SystemMessage(content=AGENT_INSTRUCTIONS)"
      ],
      "metadata": {
        "id": "7Lt50XyXix-p"
      },
      "execution_count": null,
      "outputs": []
    },
    {
      "cell_type": "markdown",
      "source": [
        "## Create Text2SQL ReAct Agent"
      ],
      "metadata": {
        "id": "TecvMWWvIzN-"
      }
    },
    {
      "cell_type": "code",
      "source": [
        "from typing import Annotated\n",
        "from typing_extensions import TypedDict\n",
        "from langgraph.graph.message import add_messages\n",
        "\n",
        "class State(TypedDict):\n",
        "    messages: Annotated[list, add_messages]"
      ],
      "metadata": {
        "id": "Rln5fyS-MCfl"
      },
      "execution_count": null,
      "outputs": []
    },
    {
      "cell_type": "code",
      "source": [
        "from langchain_core.messages import SystemMessage, HumanMessage\n",
        "from langgraph.graph import StateGraph, START, END\n",
        "from langgraph.prebuilt import ToolNode, tools_condition\n",
        "from IPython.display import display, Image, Markdown\n",
        "\n",
        "# Create the node function that handles reasoning and planning using the LLM\n",
        "def tool_calling_llm(state: State) -> State:\n",
        "    # Extract the current conversation history from the state\n",
        "    current_state = state[\"messages\"]\n",
        "\n",
        "    # Prepend the system instructions to the current message history\n",
        "    state_with_instructions = [SYS_PROMPT] + current_state\n",
        "\n",
        "    # Call the LLM to generate a new message (either a response or a tool call request)\n",
        "    response = [llm_with_tools.invoke(state_with_instructions)]\n",
        "\n",
        "    # Return the updated state containing the new message\n",
        "    return {\"messages\": response}\n",
        "\n",
        "# Build the graph\n",
        "builder = StateGraph(State)\n",
        "\n",
        "# Add nodes\n",
        "builder.add_node(\"agent\", tool_calling_llm)\n",
        "builder.add_node(\"tools\", ToolNode(tools=sql_tools))\n",
        "\n",
        "# Add edges\n",
        "builder.add_edge(START, \"agent\")\n",
        "# Conditional edge\n",
        "builder.add_conditional_edges(\n",
        "    \"agent\",\n",
        "    tools_condition, # conditional routing function\n",
        "    {\n",
        "        \"tools\": \"tools\", # If the latest message (result) from LLM is a tool call request -> tools_condition routes to tools\n",
        "        \"__end__\": END # If the latest message (result) from LLM is a not a tool call -> tools_condition routes to END\n",
        "    }\n",
        ")\n",
        "builder.add_edge(\"tools\", \"agent\") # this is the key feedback loop in the agentic system\n",
        "\n",
        "# Compile Agent Graph\n",
        "text2sql_agent = builder.compile()"
      ],
      "metadata": {
        "id": "VlZFNdOYlXdn"
      },
      "execution_count": null,
      "outputs": []
    },
    {
      "cell_type": "code",
      "source": [
        "text2sql_agent"
      ],
      "metadata": {
        "id": "RxFQon52CI7p"
      },
      "execution_count": null,
      "outputs": []
    },
    {
      "cell_type": "markdown",
      "source": [
        "## Run and Test Text2SQL Agent"
      ],
      "metadata": {
        "id": "fsnlW1ZxI1Mp"
      }
    },
    {
      "cell_type": "code",
      "source": [
        "# get agent streaming utils\n",
        "!gdown 1dSyjcjlFoZpYEqv4P9Oi0-kU2gIoolMB"
      ],
      "metadata": {
        "id": "nhYYDjeXboNH"
      },
      "execution_count": null,
      "outputs": []
    },
    {
      "cell_type": "code",
      "source": [
        "from agent_utils import format_message\n",
        "\n",
        "def call_text2sql_agent(query, verbose=False):\n",
        "\n",
        "    for event in text2sql_agent.stream(\n",
        "        {\"messages\": [HumanMessage(content=query)]},\n",
        "        stream_mode='values' #returns full agent state with all messages including updates\n",
        "    ):\n",
        "        if verbose:\n",
        "            format_message(event[\"messages\"][-1])\n",
        "\n",
        "    print('\\n\\nFinal Response:\\n')\n",
        "    display(Markdown(event[\"messages\"][-1].content))\n",
        "    return event[\"messages\"]\n"
      ],
      "metadata": {
        "id": "Rw2P3xHqwmuo"
      },
      "execution_count": null,
      "outputs": []
    },
    {
      "cell_type": "code",
      "source": [
        "query = \"Why did Finance miss SLA in Q1?\"\n",
        "response = call_text2sql_agent(query=query,\n",
        "                               verbose=True)"
      ],
      "metadata": {
        "id": "5yVTOyPcCpVq"
      },
      "execution_count": null,
      "outputs": []
    },
    {
      "cell_type": "code",
      "source": [
        "response = call_text2sql_agent(query=\"Which department has the highest unresolved issues\",\n",
        "                               verbose=False)"
      ],
      "metadata": {
        "id": "nv--rQKD1ar0"
      },
      "execution_count": null,
      "outputs": []
    },
    {
      "cell_type": "code",
      "source": [
        "response = call_text2sql_agent(query=\"What open issues exist in procurement?\",\n",
        "                               verbose=True)"
      ],
      "metadata": {
        "id": "YbnijTxIwfdb"
      },
      "execution_count": null,
      "outputs": []
    },
    {
      "cell_type": "code",
      "source": [
        "response = call_text2sql_agent(query=\"Which workflows had the most audits?\",\n",
        "                    verbose=False)"
      ],
      "metadata": {
        "id": "Qt7IZD171b4H"
      },
      "execution_count": null,
      "outputs": []
    },
    {
      "cell_type": "code",
      "source": [
        "response = call_text2sql_agent(query=\"Show me unresolved issues older than 48 hours.\",\n",
        "                               verbose=True)"
      ],
      "metadata": {
        "id": "-6pk7cZkUnLz"
      },
      "execution_count": null,
      "outputs": []
    }
  ]
}
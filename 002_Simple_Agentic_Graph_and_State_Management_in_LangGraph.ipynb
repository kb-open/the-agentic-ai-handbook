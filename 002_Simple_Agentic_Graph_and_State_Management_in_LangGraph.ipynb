{
  "cells": [
    {
      "cell_type": "markdown",
      "metadata": {
        "id": "view-in-github",
        "colab_type": "text"
      },
      "source": [
        "<a href=\"https://colab.research.google.com/github/dipanjanS/mastering-intelligent-agents-langgraph-workshop-dhs2025/blob/main/Module-1-Introduction-to-Generative-AI-and-Agentic-AI/M1LC2_Simple_Agentic_Graph_and_State_Management_in_LangGraph.ipynb\" target=\"_parent\"><img src=\"https://colab.research.google.com/assets/colab-badge.svg\" alt=\"Open In Colab\"/></a>"
      ]
    },
    {
      "cell_type": "markdown",
      "id": "50fa7f8a-8764-4bb9-9968-48b681a0e4f1",
      "metadata": {
        "id": "50fa7f8a-8764-4bb9-9968-48b681a0e4f1"
      },
      "source": [
        "# Building a Simple Agent Graph and Managing States\n",
        "\n",
        "In this hands-on demo we will understand how states work in an agentic graph and also how to build a simple agentic graph just like the one shown below.\n",
        "\n",
        "![](https://i.imgur.com/ILcvB2y.png)"
      ]
    },
    {
      "cell_type": "markdown",
      "source": [
        "## Install Dependencies"
      ],
      "metadata": {
        "id": "tIiCs9qKEddB"
      },
      "id": "tIiCs9qKEddB"
    },
    {
      "cell_type": "code",
      "execution_count": null,
      "id": "ff151ef1-fa30-482a-94da-8f49964afbc3",
      "metadata": {
        "id": "ff151ef1-fa30-482a-94da-8f49964afbc3"
      },
      "outputs": [],
      "source": [
        "!pip install langchain==0.3.27 langchain-openai==0.3.29 langgraph==0.6.4 --quiet"
      ]
    },
    {
      "cell_type": "markdown",
      "id": "5999f8d0-989f-4638-8ade-5c257cbadfe8",
      "metadata": {
        "id": "5999f8d0-989f-4638-8ade-5c257cbadfe8"
      },
      "source": [
        "## State\n",
        "\n",
        "First, define the [State](https://langchain-ai.github.io/langgraph/concepts/low_level/#state) of the graph.\n",
        "\n",
        "The State schema serves as the input schema for all Nodes and Edges in the graph. This is basically the schema of the shared context or data messages passes throughout the graph across all the nodes and edges.\n",
        "\n",
        "Let's use the `TypedDict` class from python's `typing` module as our schema, which provides type hints for the keys."
      ]
    },
    {
      "cell_type": "code",
      "execution_count": null,
      "id": "6a90709b-ddfa-4671-8acc-c59969a29991",
      "metadata": {
        "id": "6a90709b-ddfa-4671-8acc-c59969a29991"
      },
      "outputs": [],
      "source": [
        "from typing_extensions import TypedDict\n",
        "\n",
        "class State(TypedDict):\n",
        "    messages: str"
      ]
    },
    {
      "cell_type": "markdown",
      "id": "888509e1-cbde-4c03-99a0-2560dd2e262d",
      "metadata": {
        "id": "888509e1-cbde-4c03-99a0-2560dd2e262d"
      },
      "source": [
        "## Nodes\n",
        "\n",
        "[Nodes](https://langchain-ai.github.io/langgraph/concepts/low_level/#nodes) are just python functions where we implement some custom logic, call some tools, LLMs etc.\n",
        "\n",
        "The first positional argument is the state, as defined above. This gives the node the current state of the agent including the latest output messages, previous inputs etc.\n",
        "\n",
        "Because the state is a `TypedDict` with schema as defined above, each node can access the key, `messages`, with `state['messages']`.\n",
        "\n",
        "Each node returns a new value of the state key `messages`.\n",
        "  \n",
        "By default, the new value returned by each node [will overwrite](https://langchain-ai.github.io/langgraph/concepts/low_level/#reducers) the prior state value. (We will show shortly how to update new values to the state instead of overwriting)"
      ]
    },
    {
      "cell_type": "code",
      "execution_count": null,
      "id": "e8aabcb7-494c-4d35-be08-f81c76d75a6b",
      "metadata": {
        "id": "e8aabcb7-494c-4d35-be08-f81c76d75a6b"
      },
      "outputs": [],
      "source": [
        "def node1_function(state: State) -> State:\n",
        "    print(\"---Processing Code in Node 1---\")\n",
        "    state = state['messages'] # extracting the current state dict (messages key - value)\n",
        "    print('Current State before Node 1 executes is:', state)\n",
        "    return {\"messages\": \"Hello this is node 1\"} # agent state gets written with a new updated value <-- here messages value gets replaced with this string"
      ]
    },
    {
      "cell_type": "markdown",
      "source": [
        "## Edges\n",
        "\n",
        "[Edges](https://langchain-ai.github.io/langgraph/concepts/low_level/#edges) connect the nodes.\n",
        "\n",
        "Normal Edges are used if you want to *always* go from, for example, `node_1` to `node_2`."
      ],
      "metadata": {
        "id": "u1O6ubxEGshx"
      },
      "id": "u1O6ubxEGshx"
    },
    {
      "cell_type": "markdown",
      "source": [
        "## Build the Graph with Nodes and Edges and the State"
      ],
      "metadata": {
        "id": "5o5AFN75G1ib"
      },
      "id": "5o5AFN75G1ib"
    },
    {
      "cell_type": "code",
      "source": [
        "from langgraph.graph import StateGraph, START, END\n",
        "from IPython.display import Image, display\n",
        "\n",
        "# Build graph\n",
        "builder = StateGraph(State)\n",
        "\n",
        "# Add nodes\n",
        "builder.add_node(\"node_1\", node1_function) # syntax is (name of the node, actual python function for the node)\n",
        "\n",
        "# Add edges\n",
        "builder.add_edge(START, \"node_1\")\n",
        "builder.add_edge(\"node_1\", END)\n",
        "\n",
        "# Compile graph\n",
        "graph = builder.compile()"
      ],
      "metadata": {
        "id": "IJvHs_Py3uCV"
      },
      "id": "IJvHs_Py3uCV",
      "execution_count": null,
      "outputs": []
    },
    {
      "cell_type": "code",
      "source": [
        "display(Image(graph.get_graph().draw_mermaid_png()))"
      ],
      "metadata": {
        "id": "m05f3SXX-c_I"
      },
      "id": "m05f3SXX-c_I",
      "execution_count": null,
      "outputs": []
    },
    {
      "cell_type": "markdown",
      "source": [
        "## Test the Graph"
      ],
      "metadata": {
        "id": "tAt1hK2AG6Bk"
      },
      "id": "tAt1hK2AG6Bk"
    },
    {
      "cell_type": "code",
      "source": [
        "response = graph.invoke({\"messages\": \"Hi, how are you?.\"})"
      ],
      "metadata": {
        "id": "JR2L3D5Y3uH9"
      },
      "id": "JR2L3D5Y3uH9",
      "execution_count": null,
      "outputs": []
    },
    {
      "cell_type": "code",
      "source": [
        "response"
      ],
      "metadata": {
        "id": "6WCFiVVpfXxb"
      },
      "id": "6WCFiVVpfXxb",
      "execution_count": null,
      "outputs": []
    },
    {
      "cell_type": "markdown",
      "source": [
        "## Graph with custom State Schema\n",
        "\n",
        "You can define your own state schema with multiple fields and manipulate them inside the graph as shown below"
      ],
      "metadata": {
        "id": "iFOUd7RLHBwg"
      },
      "id": "iFOUd7RLHBwg"
    },
    {
      "cell_type": "code",
      "source": [
        "from langgraph.graph import StateGraph, START, END\n",
        "\n",
        "# Define the state structure\n",
        "class State(TypedDict):\n",
        "    data: str\n",
        "    counter: int\n",
        "\n",
        "# Initialize the StateGraph with the state schema\n",
        "graph_builder = StateGraph(State)\n",
        "\n",
        "# Add nodes and edges to your graph\n",
        "# Define a node that processes the state\n",
        "def process_data_node(state: State) -> State:\n",
        "    print(f\"Current data: {state['data']}, Counter: {state['counter']}\")\n",
        "    print('Changing data and counter values now...')\n",
        "    return {\"data\": state[\"data\"].upper(), \"counter\": state[\"counter\"] + 1}\n",
        "\n",
        "# Add the node AND edges to the graph\n",
        "graph_builder.add_node(\"process_data\", process_data_node)\n",
        "\n",
        "graph_builder.add_edge(START, \"process_data\")\n",
        "graph_builder.add_edge(\"process_data\", END)\n",
        "\n",
        "# Compile the graph\n",
        "graph = graph_builder.compile()"
      ],
      "metadata": {
        "id": "Pp5IhgSF3uKA"
      },
      "id": "Pp5IhgSF3uKA",
      "execution_count": null,
      "outputs": []
    },
    {
      "cell_type": "code",
      "source": [
        "display(Image(graph.get_graph().draw_mermaid_png()))"
      ],
      "metadata": {
        "id": "gEji1u3MX9OR"
      },
      "id": "gEji1u3MX9OR",
      "execution_count": null,
      "outputs": []
    },
    {
      "cell_type": "code",
      "source": [
        "# Execute the graph with an initial state\n",
        "initial_state = {\"data\": \"hello world\", \"counter\": 0}\n",
        "result = graph.invoke(initial_state)"
      ],
      "metadata": {
        "id": "Skdc5uhvR7At"
      },
      "id": "Skdc5uhvR7At",
      "execution_count": null,
      "outputs": []
    },
    {
      "cell_type": "code",
      "source": [
        "# Print the result\n",
        "print(\"Final State:\", result)"
      ],
      "metadata": {
        "id": "Y-Jw80U1f26S"
      },
      "id": "Y-Jw80U1f26S",
      "execution_count": null,
      "outputs": []
    },
    {
      "cell_type": "code",
      "source": [
        "graph.invoke(result)"
      ],
      "metadata": {
        "id": "qSjjb1jzErSD"
      },
      "id": "qSjjb1jzErSD",
      "execution_count": null,
      "outputs": []
    },
    {
      "cell_type": "markdown",
      "source": [
        "## Graph with multiple processing nodes\n",
        "\n",
        "So far we have built a graph with one node, lets now build one with three processing nodes and update (and overwrite) the overall state of the agent in each node"
      ],
      "metadata": {
        "id": "VBnnQo_cHS40"
      },
      "id": "VBnnQo_cHS40"
    },
    {
      "cell_type": "code",
      "source": [
        "from typing_extensions import TypedDict\n",
        "\n",
        "# Agent state\n",
        "class State(TypedDict):\n",
        "    messages: str"
      ],
      "metadata": {
        "id": "xG5z3i4kH88n"
      },
      "id": "xG5z3i4kH88n",
      "execution_count": null,
      "outputs": []
    },
    {
      "cell_type": "code",
      "source": [
        "# Define agent node functions\n",
        "def node1_func(state: State) -> State:\n",
        "    print(\"---Processing Code in Node 1---\")\n",
        "    state = state['messages']\n",
        "    print('State of messages key before Node 1:', state)\n",
        "    return {\"messages\": \"Hello this is node 1\"}\n",
        "\n",
        "def node2_func(state):\n",
        "    print(\"---Processing Code in Node 2---\")\n",
        "    state = state['messages']\n",
        "    print('State of messages key before Node 2:', state)\n",
        "    return {\"messages\": \"Hello this is node 2\"}\n",
        "\n",
        "def final_node_func(state):\n",
        "    print(\"---Processing Code in Final Node---\")\n",
        "    state = state['messages']\n",
        "    print('State of messages key before Final Node:', state)\n",
        "    return {\"messages\": \"Hello this is the final node\"}"
      ],
      "metadata": {
        "id": "JTCvoMus3uMo"
      },
      "id": "JTCvoMus3uMo",
      "execution_count": null,
      "outputs": []
    },
    {
      "cell_type": "code",
      "source": [
        "# Build graph\n",
        "builder = StateGraph(State)\n",
        "\n",
        "# Add nodes\n",
        "builder.add_node(\"node_1\", node1_func)\n",
        "builder.add_node(\"node_2\", node2_func)\n",
        "builder.add_node(\"node_3\", final_node_func)\n",
        "\n",
        "# Add edges\n",
        "builder.add_edge(START, \"node_1\")\n",
        "builder.add_edge(\"node_1\", \"node_2\")\n",
        "builder.add_edge(\"node_2\", \"node_3\")\n",
        "builder.add_edge(\"node_3\", END)\n",
        "\n",
        "# Compile\n",
        "graph = builder.compile()"
      ],
      "metadata": {
        "id": "l6Mmlmma4pmu"
      },
      "id": "l6Mmlmma4pmu",
      "execution_count": null,
      "outputs": []
    },
    {
      "cell_type": "code",
      "source": [
        "# View\n",
        "display(Image(graph.get_graph().draw_mermaid_png()))"
      ],
      "metadata": {
        "id": "d1gmwFpI-y-x"
      },
      "id": "d1gmwFpI-y-x",
      "execution_count": null,
      "outputs": []
    },
    {
      "cell_type": "code",
      "source": [
        "response = graph.invoke({\"messages\": \"Hi, how are you?.\"})"
      ],
      "metadata": {
        "id": "4bVyl9RX47tn"
      },
      "id": "4bVyl9RX47tn",
      "execution_count": null,
      "outputs": []
    },
    {
      "cell_type": "code",
      "source": [
        "response"
      ],
      "metadata": {
        "id": "qgVh3fbyYqeH"
      },
      "id": "qgVh3fbyYqeH",
      "execution_count": null,
      "outputs": []
    },
    {
      "cell_type": "markdown",
      "source": [
        "The state gets overwritten each time in each node which is something which we do not want. We want the agent to be aware of what is happening in each node and store all the intermediate messages also.\n",
        "\n",
        "Imagine a tool call happening only to get overwritten by something else!\n",
        "\n",
        "This is where reducer functions can be used to update and append to the overall agent's state schema instead of overwriting"
      ],
      "metadata": {
        "id": "R_cIq_M2IAdA"
      },
      "id": "R_cIq_M2IAdA"
    },
    {
      "cell_type": "markdown",
      "source": [
        "## Graph with multiple processing nodes\n",
        "\n",
        "So far we have built a graph with one node, lets now build one with three processing nodes and update the overall state of the agent in each node without overwriting the overall state"
      ],
      "metadata": {
        "id": "oLAPfQ7BIYcm"
      },
      "id": "oLAPfQ7BIYcm"
    },
    {
      "cell_type": "code",
      "source": [
        "from typing import Annotated\n",
        "from langgraph.graph.message import add_messages\n",
        "\n",
        "# Define Agent State\n",
        "class State(TypedDict):\n",
        "    messages: Annotated[list, add_messages] # the reducer helps in appending to the state\n",
        "\n",
        "# Define agent node functions\n",
        "def node1_func(state: State) -> State:\n",
        "    print(\"---Processing Code in Node 1---\")\n",
        "    state = state['messages']\n",
        "    print('State of messages key before Node 1:', state)\n",
        "    return {\"messages\": \"Hello this is node 1\"}\n",
        "\n",
        "def node2_func(state):\n",
        "    print(\"---Processing Code in Node 2---\")\n",
        "    state = state['messages']\n",
        "    print('State of messages key before Node 2:', state)\n",
        "    return {\"messages\": \"Hello this is node 2\"}\n",
        "\n",
        "def final_node_func(state):\n",
        "    print(\"---Processing Code in Final Node---\")\n",
        "    state = state['messages']\n",
        "    print('State of messages key before Final Node:', state)\n",
        "    return {\"messages\": \"Hello this is the final node\"}\n",
        "\n",
        "# Build graph\n",
        "builder = StateGraph(State)\n",
        "builder.add_node(\"node_1\", node1_func)\n",
        "builder.add_node(\"node_2\", node2_func)\n",
        "builder.add_node(\"node_3\", final_node_func)\n",
        "\n",
        "# Logic\n",
        "builder.add_edge(START, \"node_1\")\n",
        "builder.add_edge(\"node_1\", \"node_2\")\n",
        "builder.add_edge(\"node_2\", \"node_3\")\n",
        "builder.add_edge(\"node_3\", END)\n",
        "\n",
        "\n",
        "# Add\n",
        "graph = builder.compile()"
      ],
      "metadata": {
        "id": "5eCXQdqL4_pD"
      },
      "id": "5eCXQdqL4_pD",
      "execution_count": null,
      "outputs": []
    },
    {
      "cell_type": "code",
      "source": [
        "# View\n",
        "display(Image(graph.get_graph().draw_mermaid_png()))"
      ],
      "metadata": {
        "id": "XE7lZPGk-2oh"
      },
      "id": "XE7lZPGk-2oh",
      "execution_count": null,
      "outputs": []
    },
    {
      "cell_type": "code",
      "source": [
        "response = graph.invoke({\"messages\": \"Hi, how are you?.\"})"
      ],
      "metadata": {
        "id": "tynHTQXeEkli"
      },
      "id": "tynHTQXeEkli",
      "execution_count": null,
      "outputs": []
    },
    {
      "cell_type": "code",
      "source": [
        "response"
      ],
      "metadata": {
        "id": "6uGXxt0RuOpb"
      },
      "id": "6uGXxt0RuOpb",
      "execution_count": null,
      "outputs": []
    },
    {
      "cell_type": "code",
      "source": [
        "response['messages'][-1].content"
      ],
      "metadata": {
        "id": "ksqAzjYzo7k8"
      },
      "id": "ksqAzjYzo7k8",
      "execution_count": null,
      "outputs": []
    }
  ],
  "metadata": {
    "kernelspec": {
      "display_name": "Python 3 (ipykernel)",
      "language": "python",
      "name": "python3"
    },
    "language_info": {
      "codemirror_mode": {
        "name": "ipython",
        "version": 3
      },
      "file_extension": ".py",
      "mimetype": "text/x-python",
      "name": "python",
      "nbconvert_exporter": "python",
      "pygments_lexer": "ipython3",
      "version": "3.12.1"
    },
    "colab": {
      "provenance": [],
      "include_colab_link": true
    }
  },
  "nbformat": 4,
  "nbformat_minor": 5
}
{
  "cells": [
    {
      "cell_type": "markdown",
      "metadata": {
        "id": "view-in-github",
        "colab_type": "text"
      },
      "source": [
        "<a href=\"https://colab.research.google.com/github/dipanjanS/mastering-intelligent-agents-langgraph-workshop-dhs2025/blob/main/Module-1-Introduction-to-Generative-AI-and-Agentic-AI/M1LC3_Conditional_Routing_in_LangGraph.ipynb\" target=\"_parent\"><img src=\"https://colab.research.google.com/assets/colab-badge.svg\" alt=\"Open In Colab\"/></a>"
      ]
    },
    {
      "cell_type": "markdown",
      "id": "50fa7f8a-8764-4bb9-9968-48b681a0e4f1",
      "metadata": {
        "id": "50fa7f8a-8764-4bb9-9968-48b681a0e4f1"
      },
      "source": [
        "# Conditional Routing in LangGraph\n",
        "\n",
        "In LangGraph, conditional routing allows the dynamic determination of the next node(s) to execute based on the current state.\n",
        "\n",
        "This is achieved using conditional edges, which evaluate a function using certain defined logic, to decide the subsequent path in the graph.\n",
        "\n",
        "This mechanism enables the creation of adaptable workflows that respond to varying conditions during execution. Let's dive deep into conditional routing in this demo.\n",
        "\n",
        "![](https://i.imgur.com/uX12AyO.png)"
      ]
    },
    {
      "cell_type": "markdown",
      "source": [
        "## Install Dependencies"
      ],
      "metadata": {
        "id": "tIiCs9qKEddB"
      },
      "id": "tIiCs9qKEddB"
    },
    {
      "cell_type": "code",
      "execution_count": null,
      "id": "ff151ef1-fa30-482a-94da-8f49964afbc3",
      "metadata": {
        "id": "ff151ef1-fa30-482a-94da-8f49964afbc3"
      },
      "outputs": [],
      "source": [
        "!pip install langchain==0.3.27 langchain-openai==0.3.29 langgraph==0.6.5 --quiet"
      ]
    },
    {
      "cell_type": "markdown",
      "id": "ad056608-8c8f-4999-bb53-10583efa4ed8",
      "metadata": {
        "id": "ad056608-8c8f-4999-bb53-10583efa4ed8"
      },
      "source": [
        "## Creating the Graph with Conditional Edges\n",
        "\n",
        "[Edges](https://langchain-ai.github.io/langgraph/concepts/low_level/#edges) connect the nodes.\n",
        "\n",
        "Normal Edges are used if you want to *always* go from, for example, `node_1` to `node_2`.\n",
        "\n",
        "[Conditional Edges](https://langchain-ai.github.io/langgraph/reference/graphs/?h=conditional+edge#langgraph.graph.StateGraph.add_conditional_edges) are used want to *optionally* route between nodes.\n",
        "\n",
        "Conditional edges are implemented as functions that return the next node to visit based upon some logic.\n",
        "\n",
        "![](https://i.imgur.com/uX12AyO.png)"
      ]
    },
    {
      "cell_type": "code",
      "source": [
        "from typing import TypedDict\n",
        "from langgraph.graph import StateGraph, START, END\n",
        "from IPython.display import Image, display\n",
        "\n",
        "# Define the state structure\n",
        "class State(TypedDict):\n",
        "    input: str\n",
        "    weather: str\n",
        "\n",
        "# Initialize the StateGraph\n",
        "graph_builder = StateGraph(State)\n",
        "\n",
        "# Define node functions\n",
        "def weather_node(state: State) -> State:\n",
        "    print(\"\\nChecking the weather...\")\n",
        "    # here you might want to call some tool or logic and get the weather\n",
        "    # for now we will just pass the state along which has the weather key - value pair\n",
        "    print('Weather entered by user is:', state['input'])\n",
        "    return state  # Just pass the state along\n",
        "\n",
        "def rainy_node(state: State) -> State:\n",
        "    print(\"It's rainy. Take an umbrella!\")\n",
        "    return {'weather': 'rainy confirmed'}\n",
        "\n",
        "def sunny_node(state: State) -> State:\n",
        "    print(\"It's sunny. Wear sunglasses!\")\n",
        "    return {'weather': 'sunny confirmed'}\n",
        "\n",
        "# Define the routing function\n",
        "def weather_routing_fn(state: State) -> str:\n",
        "    user_input = state['input']\n",
        "    if user_input.lower() == 'rainy':\n",
        "        return \"goto_rainy_node\" # name of the rainy node we will define shortly\n",
        "    elif user_input.lower() == 'sunny':\n",
        "        return \"goto_sunny_node\" # name of the sunny node we will define shortly\n",
        "    else:\n",
        "        raise ValueError(\"Invalid weather condition!\")\n",
        "\n",
        "# Add nodes to the graph\n",
        "graph_builder.add_node(\"weather_node\", weather_node)\n",
        "graph_builder.add_node(\"rainy_node\", rainy_node)\n",
        "graph_builder.add_node(\"sunny_node\", sunny_node)\n",
        "\n",
        "# Define edges\n",
        "graph_builder.add_edge(START, \"weather_node\")\n",
        "graph_builder.add_conditional_edges(\"weather_node\",\n",
        "                                    # the routing function will route to rainy_node if weather state is 'rainy'\n",
        "                                    # the routing function will route to sunny_node if the weather state is 'sunny'\n",
        "                                    weather_routing_fn, # routing function\n",
        "                                    {\n",
        "                                        \"goto_rainy_node\": \"rainy_node\",\n",
        "                                        \"goto_sunny_node\": \"sunny_node\"\n",
        "                                    } # possible nodes where the routing function can end up going\n",
        "                                   )\n",
        "graph_builder.add_edge(\"rainy_node\", END)\n",
        "graph_builder.add_edge(\"sunny_node\", END)\n",
        "\n",
        "# Compile the graph\n",
        "graph = graph_builder.compile()"
      ],
      "metadata": {
        "id": "JMwFg6Euo9Aq"
      },
      "id": "JMwFg6Euo9Aq",
      "execution_count": null,
      "outputs": []
    },
    {
      "cell_type": "code",
      "source": [
        "display(Image(graph.get_graph().draw_mermaid_png()))"
      ],
      "metadata": {
        "id": "njAOIU-RAJBK"
      },
      "id": "njAOIU-RAJBK",
      "execution_count": null,
      "outputs": []
    },
    {
      "cell_type": "code",
      "source": [
        "# Execute the graph with an initial state for \"rainy\"\n",
        "initial_state_rainy = {\"input\": \"rainy\"}\n",
        "result_rainy = graph.invoke(initial_state_rainy)"
      ],
      "metadata": {
        "id": "nb2baJ8_pTl4"
      },
      "id": "nb2baJ8_pTl4",
      "execution_count": null,
      "outputs": []
    },
    {
      "cell_type": "code",
      "source": [
        "result_rainy"
      ],
      "metadata": {
        "id": "Vp_--VqKJwpx"
      },
      "id": "Vp_--VqKJwpx",
      "execution_count": null,
      "outputs": []
    },
    {
      "cell_type": "code",
      "source": [
        "# Execute the graph with an initial state for \"sunny\"\n",
        "initial_state_sunny = {\"input\": \"sunny\"}\n",
        "result_sunny = graph.invoke(initial_state_sunny)"
      ],
      "metadata": {
        "id": "kurtuIenS9WV"
      },
      "id": "kurtuIenS9WV",
      "execution_count": null,
      "outputs": []
    },
    {
      "cell_type": "code",
      "source": [
        "# Execute the graph with an initial state for \"sunny\"\n",
        "initial_state_sunny = {\"input\": \"humid\"}\n",
        "result_sunny = graph.invoke(initial_state_sunny)"
      ],
      "metadata": {
        "id": "OPTnEhJmC8um"
      },
      "id": "OPTnEhJmC8um",
      "execution_count": null,
      "outputs": []
    },
    {
      "cell_type": "markdown",
      "source": [
        "## Conditional Routing with More Nodes\n",
        "\n",
        "The more nodes you have for custom logic you just need to define the node functions and then put in relevant conditions for the function which would do the conditional routing as shown in the example below.\n",
        "\n",
        "![](https://i.imgur.com/FbiQBYZ.png)"
      ],
      "metadata": {
        "id": "F-ETXqN2Te24"
      },
      "id": "F-ETXqN2Te24"
    },
    {
      "cell_type": "code",
      "source": [
        "# Define the state structure\n",
        "class State(TypedDict):\n",
        "    input: str\n",
        "    weather: str\n",
        "\n",
        "# Initialize the StateGraph\n",
        "graph_builder = StateGraph(State)\n",
        "\n",
        "# Define node functions\n",
        "def weather_node(state: State) -> State:\n",
        "    print(\"\\nChecking the weather...\")\n",
        "    # here you might want to call some tool or logic and get the weather\n",
        "    # for now we will just pass the state along which has the weather key - value pair\n",
        "    print('Weather entered by user is:', state['input'])\n",
        "    return state  # Just pass the state along\n",
        "\n",
        "def rainy_node(state: State) -> State:\n",
        "    print(\"It's rainy. Take an umbrella!\")\n",
        "    return {'weather': 'rainy confirmed'}\n",
        "\n",
        "def sunny_node(state: State) -> State:\n",
        "    print(\"It's sunny. Wear sunglasses!\")\n",
        "    return {'weather': 'sunny confirmed'}\n",
        "\n",
        "def other_node(state: State) -> State:\n",
        "    print(\"Sorry I can't detect the weather yet!\")\n",
        "    return {'weather': 'not confirmed'}\n",
        "\n",
        "# Define the routing function\n",
        "def weather_routing_fn(state: State) -> str:\n",
        "    user_input = state['input']\n",
        "    if user_input.lower() == 'rainy':\n",
        "        return \"goto_rainy_node\" # name of the rainy node we will define shortly\n",
        "    elif user_input.lower() == 'sunny':\n",
        "        return \"goto_sunny_node\" # name of the sunny node we will define shortly\n",
        "    else:\n",
        "        return \"goto_other_node\"\n",
        "\n",
        "# Add nodes to the graph\n",
        "graph_builder.add_node(\"weather_node\", weather_node)\n",
        "graph_builder.add_node(\"rainy_node\", rainy_node)\n",
        "graph_builder.add_node(\"sunny_node\", sunny_node)\n",
        "graph_builder.add_node(\"other_node\", other_node)\n",
        "\n",
        "# Define edges\n",
        "graph_builder.add_edge(START, \"weather_node\")\n",
        "graph_builder.add_conditional_edges(\"weather_node\",\n",
        "                                    # the routing function will route to rainy_node if weather state is 'rainy'\n",
        "                                    # the routing function will route to sunny_node if the weather state is 'sunny'\n",
        "                                    weather_routing_fn, # routing function\n",
        "                                    {\n",
        "                                        \"goto_rainy_node\": \"rainy_node\",\n",
        "                                        \"goto_sunny_node\": \"sunny_node\",\n",
        "                                        \"goto_other_node\": \"other_node\"\n",
        "                                    } # possible nodes where the routing function can end up going\n",
        "                                   )\n",
        "graph_builder.add_edge(\"rainy_node\", END)\n",
        "graph_builder.add_edge(\"sunny_node\", END)\n",
        "graph_builder.add_edge(\"other_node\", END)\n",
        "\n",
        "# Compile the graph\n",
        "graph = graph_builder.compile()"
      ],
      "metadata": {
        "id": "C7015vUIJT9o"
      },
      "id": "C7015vUIJT9o",
      "execution_count": null,
      "outputs": []
    },
    {
      "cell_type": "code",
      "source": [
        "# View\n",
        "display(Image(graph.get_graph().draw_mermaid_png()))"
      ],
      "metadata": {
        "id": "qGhRMEnDmLYR"
      },
      "id": "qGhRMEnDmLYR",
      "execution_count": null,
      "outputs": []
    },
    {
      "cell_type": "code",
      "source": [
        "result = graph.invoke({\"input\": \"rainy\"})"
      ],
      "metadata": {
        "id": "kCmKGpWNLw0P"
      },
      "id": "kCmKGpWNLw0P",
      "execution_count": null,
      "outputs": []
    },
    {
      "cell_type": "code",
      "source": [
        "result"
      ],
      "metadata": {
        "id": "mYmDzofJSZze"
      },
      "id": "mYmDzofJSZze",
      "execution_count": null,
      "outputs": []
    },
    {
      "cell_type": "code",
      "source": [
        "result = graph.invoke({\"input\": \"Sunny\"})\n",
        "result"
      ],
      "metadata": {
        "id": "tWWYVAknMH7x"
      },
      "id": "tWWYVAknMH7x",
      "execution_count": null,
      "outputs": []
    },
    {
      "cell_type": "code",
      "source": [
        "result = graph.invoke({\"input\": \"Stormy\"})\n",
        "result"
      ],
      "metadata": {
        "id": "mN2rkHg00QOC"
      },
      "id": "mN2rkHg00QOC",
      "execution_count": null,
      "outputs": []
    }
  ],
  "metadata": {
    "kernelspec": {
      "display_name": "Python 3 (ipykernel)",
      "language": "python",
      "name": "python3"
    },
    "language_info": {
      "codemirror_mode": {
        "name": "ipython",
        "version": 3
      },
      "file_extension": ".py",
      "mimetype": "text/x-python",
      "name": "python",
      "nbconvert_exporter": "python",
      "pygments_lexer": "ipython3",
      "version": "3.12.1"
    },
    "colab": {
      "provenance": [],
      "include_colab_link": true
    }
  },
  "nbformat": 4,
  "nbformat_minor": 5
}
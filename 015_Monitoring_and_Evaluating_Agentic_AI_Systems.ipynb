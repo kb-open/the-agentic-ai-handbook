{
  "nbformat": 4,
  "nbformat_minor": 0,
  "metadata": {
    "colab": {
      "provenance": [],
      "authorship_tag": "ABX9TyNsvoS0CGj1WW9Ngn7YB5Om",
      "include_colab_link": true
    },
    "kernelspec": {
      "name": "python3",
      "display_name": "Python 3"
    },
    "language_info": {
      "name": "python"
    }
  },
  "cells": [
    {
      "cell_type": "markdown",
      "metadata": {
        "id": "view-in-github",
        "colab_type": "text"
      },
      "source": [
        "<a href=\"https://colab.research.google.com/github/dipanjanS/mastering-intelligent-agents-langgraph-workshop-dhs2025/blob/main/Module-6-Deploying-Monitoring-and-Evaluating-Agentic-AI-Systems/M6LC2_Monitoring_and_Evaluating_Agentic_AI_Systems.ipynb\" target=\"_parent\"><img src=\"https://colab.research.google.com/assets/colab-badge.svg\" alt=\"Open In Colab\"/></a>"
      ]
    },
    {
      "cell_type": "markdown",
      "source": [
        "# Monitoring and Evaluating Agentic AI Systems with LangGraph & LangSmith\n",
        "\n",
        "This notebook demonstrates how to build, monitor, and evaluate a healthcare utilization review agent using **LangGraph**, **LangSmith**, and **AgentEvals/OpenEvals**.  \n",
        "\n",
        "![](https://i.imgur.com/KOJ58Yg.png)\n",
        "\n",
        "- **Build the Agent**: Create a LangGraph ReAct agent with clinical tools and a structured output format.  \n",
        "- **Tracing & Monitoring**: Enable LangSmith tracing to capture runs, inspect tool calls, and monitor performance with built-in dashboards.  \n",
        "- **Caching**: Add simple in-memory caching to improve speed and reduce repeated LLM calls.  \n",
        "- **Evaluation Dataset**: Prepare and upload test cases with reference outputs and trajectories to LangSmith.  \n",
        "- **Custom Evaluators**: Define three LLM-as-judge evaluators — **Goal Accuracy**, **Goal Reasoning Quality**, and **Trajectory Accuracy**.  \n",
        "- **Run Evaluations**: Execute the agent against the dataset, score results with custom evaluators, and analyze them in LangSmith.  \n",
        "\n",
        "By the end, you will have a complete workflow for developing an agent, monitoring it in production-like settings, and rigorously evaluating its decisions and reasoning steps.  \n"
      ],
      "metadata": {
        "id": "3e_H5Izsos6Q"
      }
    },
    {
      "cell_type": "markdown",
      "source": [
        "## Install Dependencies\n",
        "\n",
        "- LangGraph & LangChain for building Agents\n",
        "- LangSmith, OpenEvals and AgentEvals for monitoring and evaluating Agents"
      ],
      "metadata": {
        "id": "M1jEHIwto3je"
      }
    },
    {
      "cell_type": "code",
      "execution_count": null,
      "metadata": {
        "id": "sM-bi3UAMp4-"
      },
      "outputs": [],
      "source": [
        "!pip install langchain==0.3.27 langchain-community==0.3.27 langchain-openai==0.3.30 langgraph==0.6.5 langsmith==0.4.14 agentevals==0.0.9 --quiet"
      ]
    },
    {
      "cell_type": "markdown",
      "metadata": {
        "id": "j7ytgT0Taut7"
      },
      "source": [
        "## Configure API Keys & Environment\n",
        "\n",
        "Set your OpenAI API key and LangSmith API key and set it in the environment"
      ]
    },
    {
      "cell_type": "code",
      "execution_count": null,
      "metadata": {
        "id": "apikey"
      },
      "outputs": [],
      "source": [
        "import os\n",
        "import getpass\n",
        "\n",
        "# OpenAI API Key (for chat & embeddings)\n",
        "if not os.environ.get(\"OPENAI_API_KEY\"):\n",
        "    os.environ[\"OPENAI_API_KEY\"] = getpass.getpass(\"Enter your OpenAI API key (https://platform.openai.com/account/api-keys):\\n\")\n",
        "\n",
        "# Langsmith API Key (for agent tracking and evaluation)\n",
        "if not os.environ.get(\"LANGSMITH_API_KEY\"):\n",
        "    os.environ[\"LANGSMITH_API_KEY\"] = getpass.getpass(\"Enter your LangSmith API key (https://smith.langchain.com):\\n\")\n"
      ]
    },
    {
      "cell_type": "markdown",
      "source": [
        "## Set LangSmith Project & Enable Tracing\n",
        "\n",
        "Configure LangSmith to capture and group all agent runs under a specific project with tracing enabled.  \n",
        "\n",
        "- Define a **project name** to organize and filter runs.  \n",
        "- Set `LANGSMITH_TRACING=true` so inputs, outputs, and tool calls are logged.  \n",
        "- Provide your **LangSmith API key** (and endpoint if using a private deployment).  "
      ],
      "metadata": {
        "id": "oK7nCsMiGsaG"
      }
    },
    {
      "cell_type": "code",
      "source": [
        "PROJECT_NAME = 'dhs-mastering-agents-project'#\"dhs-effectiveagents-demo\""
      ],
      "metadata": {
        "id": "P3yxjJ49Gyju"
      },
      "execution_count": null,
      "outputs": []
    },
    {
      "cell_type": "code",
      "source": [
        "os.environ[\"LANGSMITH_TRACING\"] = \"true\"\n",
        "os.environ[\"LANGSMITH_ENDPOINT\"] = \"https://api.smith.langchain.com\"\n",
        "os.environ[\"LANGSMITH_PROJECT\"] = PROJECT_NAME"
      ],
      "metadata": {
        "id": "gBuX5ruAMrig"
      },
      "execution_count": null,
      "outputs": []
    },
    {
      "cell_type": "markdown",
      "source": [
        "## Build your Utilization Review AI Agent\n",
        "\n",
        "Assemble a LangGraph tool-using ReAct agent that uses clinical tools and a system prompt to produce a structured utilization-review decision.\n",
        "\n",
        "- Define the **system prompt** and enforce the final answer format: **Decision**, **Reasoning**, **Care recommendation**.\n",
        "- Initialize the **LLM** for tool-use and reasoning.\n",
        "- Register domain tools: **fetch_patient_record**, **match_guideline**, **check_guideline_validity**, **recommend_care_plan**.\n",
        "- Create the agent with `create_react_agent(tools=..., llm=...)` so it can call tools and return the final structured response.\n",
        "\n",
        "![](https://i.imgur.com/s9hSJ6l.png)"
      ],
      "metadata": {
        "id": "X9hHKVhqPE-p"
      }
    },
    {
      "cell_type": "markdown",
      "source": [
        "## Sample Data (Guidelines, Care Plans, Patient Records)\n",
        "\n",
        "This notebook uses **in-memory** Python lists to keep the demo self-contained.  \n",
        "You can later swap these out for a database or API without changing the agent’s logic.\n",
        "\n",
        "### What’s included\n",
        "- **`medical_guidelines`** — evidence-style rules the agent can match against.\n",
        "  - Fields: `procedure`, `diagnosis`, `required_symptoms` (list), `notes` (free text).\n",
        "  - Example:\n",
        "    ```python\n",
        "    {\n",
        "      \"procedure\": \"CT Abdomen\",\n",
        "      \"diagnosis\": \"Suspected Appendicitis\",\n",
        "      \"required_symptoms\": [\"abdominal pain\", \"nausea\", \"RLQ tenderness\"],\n",
        "      \"notes\": \"CT imaging justified if appendicitis is unclear.\"\n",
        "    }\n",
        "    ```\n",
        "- **`care_recommendations`** — next-step suggestions keyed by diagnosis.\n",
        "  - Fields: `diagnosis`, `next_step`.\n",
        "  - Example:\n",
        "    ```python\n",
        "    {\n",
        "      \"diagnosis\": \"Community-Acquired Pneumonia\",\n",
        "      \"next_step\": \"Start empirical antibiotics; reserve CT for poor responders.\"\n",
        "    }\n",
        "    ```\n",
        "- **`patient_records`** — patient data including what **procedure** has been recommended to them based on their **diagnosis**.\n",
        "  - Fields: `patient_id`, `age`, `sex`, `symptoms` (list), `diagnosis`, `procedure`, `notes`.\n",
        "  - Example:\n",
        "    ```python\n",
        "    {\n",
        "      \"patient_id\": \"P101\",\n",
        "      \"age\": 38,\n",
        "      \"sex\": \"Male\",\n",
        "      \"symptoms\": [\"abdominal pain\", \"nausea\"],\n",
        "      \"diagnosis\": \"Possible early appendicitis\",\n",
        "      \"procedure\": \"CT Abdomen\",\n",
        "      \"notes\": \"Mild abdominal pain and nausea but no localized tenderness or rebound noted.\"\n",
        "    }\n",
        "    ```\n",
        "\n",
        "### How the agent uses these\n",
        "- **Guideline matching**: `procedure` + `diagnosis` → pick the closest entry in `medical_guidelines`.\n",
        "- **Validity check**: compare `patient_records[*].symptoms` vs. `required_symptoms` and read `notes`.\n",
        "- **Care plan**: map `diagnosis` → `care_recommendations[*].next_step`."
      ],
      "metadata": {
        "id": "IAvTAIQcG9yz"
      }
    },
    {
      "cell_type": "code",
      "source": [
        "from typing import Annotated, Literal\n",
        "from typing_extensions import TypedDict\n",
        "from langgraph.graph.message import add_messages\n",
        "from langgraph.graph import StateGraph, START, END\n",
        "from langgraph.types import Command\n",
        "from langchain_openai import ChatOpenAI\n",
        "from langchain_core.tools import tool\n",
        "from langchain_core.messages import HumanMessage, SystemMessage\n",
        "from langgraph.prebuilt import create_react_agent\n",
        "from IPython.display import display, Markdown\n",
        "\n",
        "medical_guidelines = [\n",
        "    {\"procedure\": \"MRI Brain\", \"diagnosis\": \"Migraine\", \"required_symptoms\": [\"headache\", \"nausea\"],\n",
        "     \"notes\": \"MRI not recommended unless neurological deficits or red flags present.\"},\n",
        "    {\"procedure\": \"CT Chest\", \"diagnosis\": \"Suspected Pulmonary Embolism\", \"required_symptoms\": [\"chest pain\", \"shortness of breath\", \"tachycardia\"],\n",
        "     \"notes\": \"CTPA appropriate for high probability PE cases with positive D-dimer.\"},\n",
        "    {\"procedure\": \"MRI Lumbar Spine\", \"diagnosis\": \"Chronic Low Back Pain\", \"required_symptoms\": [\"back pain > 6 weeks\", \"neurological deficit\"],\n",
        "     \"notes\": \"MRI only if pain persists despite conservative therapy and neuro signs are present.\"},\n",
        "    {\"procedure\": \"CT Chest\", \"diagnosis\": \"Community-Acquired Pneumonia\", \"required_symptoms\": [\"fever\", \"cough\"],\n",
        "     \"notes\": \"CT Chest reserved for inconclusive X-rays or immunocompromised patients.\"},\n",
        "    {\"procedure\": \"CT Abdomen\", \"diagnosis\": \"Suspected Appendicitis\", \"required_symptoms\": [\"abdominal pain\", \"nausea\", \"RLQ tenderness\"],\n",
        "     \"notes\": \"CT imaging justified if appendicitis is unclear.\"}\n",
        "]\n",
        "\n",
        "care_recommendations = [\n",
        "    {\"diagnosis\": \"Migraine\", \"next_step\": \"Start migraine treatment; imaging not necessary unless red flags appear.\"},\n",
        "    {\"diagnosis\": \"Suspected Pulmonary Embolism\", \"next_step\": \"Begin anticoagulation and confirm with CTPA.\"},\n",
        "    {\"diagnosis\": \"Chronic Low Back Pain\", \"next_step\": \"Refer to physiotherapy; MRI only if neuro symptoms persist.\"},\n",
        "    {\"diagnosis\": \"Community-Acquired Pneumonia\", \"next_step\": \"Start empirical antibiotics; reserve CT for poor responders.\"},\n",
        "    {\"diagnosis\": \"Suspected Appendicitis\", \"next_step\": \"Do CT to confirm and refer for surgery if positive.\"}\n",
        "]\n",
        "\n",
        "patient_records = [\n",
        "    {\"patient_id\": \"P101\", \"age\": 38, \"sex\": \"Male\", \"symptoms\": [\"abdominal pain\", \"nausea\"],\n",
        "     \"diagnosis\": \"Possible early appendicitis\", \"procedure\": \"CT Abdomen\",\n",
        "     \"notes\": \"Mild abdominal pain and nausea but no localized tenderness or rebound noted.\"},\n",
        "    {\"patient_id\": \"P102\", \"age\": 65, \"sex\": \"Female\", \"symptoms\": [\"chest pain\", \"shortness of breath\", \"tachycardia\"],\n",
        "     \"diagnosis\": \"Clinical suspicion of PE\", \"procedure\": \"CT Chest\",\n",
        "     \"notes\": \"Wells score high probability; D-dimer positive.\"},\n",
        "    {\"patient_id\": \"P103\", \"age\": 30, \"sex\": \"Female\", \"symptoms\": [\"recurrent headache\"],\n",
        "     \"diagnosis\": \"Classic migraine presentation\", \"procedure\": \"MRI Brain\",\n",
        "     \"notes\": \"No neuro signs or red flags. Typical migraine pattern.\"},\n",
        "    {\"patient_id\": \"P104\", \"age\": 45, \"sex\": \"Male\", \"symptoms\": [\"back pain > 6 weeks\", \"neurological deficit\"],\n",
        "     \"diagnosis\": \"Chronic Low Back Pain\", \"procedure\": \"MRI Lumbar Spine\",\n",
        "     \"notes\": \"Persistent low back pain with left leg numbness; unresponsive to physiotherapy.\"},\n",
        "    {\"patient_id\": \"P105\", \"age\": 70, \"sex\": \"Female\", \"symptoms\": [\"fever\", \"cough\"],\n",
        "     \"diagnosis\": \"Community-Acquired Pneumonia\", \"procedure\": \"CT Chest\",\n",
        "     \"notes\": \"Initial chest X-ray inconclusive; patient is immunocompromised with underlying COPD.\"}\n",
        "]"
      ],
      "metadata": {
        "id": "xTiR2SR5NJfF"
      },
      "execution_count": null,
      "outputs": []
    },
    {
      "cell_type": "markdown",
      "source": [
        "### Tools for the Utilization Review Agent\n",
        "\n",
        "These are **LangChain tools** (decorated with `@tool`) that the agent can call during a review.  \n",
        "They encapsulate domain logic and return **small, structured dicts** the agent can reason over.\n",
        "\n",
        "#### Summary of tools\n",
        "\n",
        "| Tool | Purpose | Inputs | Output keys |\n",
        "|---|---|---|---|\n",
        "| `fetch_patient_record` | Retrieve and summarize a patient chart from in-memory data | `patient_id: str` | `patient_summary` _(str)_, or `error` |\n",
        "| `match_guideline` | Pick the closest clinical guideline for a (procedure, diagnosis) pair using the LLM | `procedure: str`, `diagnosis: str` | `matched_guideline` _(str)_ |\n",
        "| `check_guideline_validity` | Validate whether patient symptoms/notes meet the guideline’s criteria | `symptoms: list[str]`, `required_symptoms: list[str]`, `notes: str` | `validity_result` _(str)_ |\n",
        "| `recommend_care_plan` | Suggest next steps for the given diagnosis | `diagnosis: str` | `recommendation` _(str)_ |\n",
        "\n",
        "> All LLM-backed tools use `ChatOpenAI` (temperature = 0, streaming enabled in code) and return **concise textual justifications** under a single key.\n",
        "\n",
        "#### Typical call order used by the agent\n",
        "1. `fetch_patient_record(patient_id)` → summarize context  \n",
        "2. `match_guideline(procedure, diagnosis)` → find best-fit rule  \n",
        "3. `check_guideline_validity(symptoms, required_symptoms, notes)` → approve vs. needs review  \n",
        "4. `recommend_care_plan(diagnosis)` → action steps / alternatives\n",
        "\n",
        "#### Example outputs (shape)\n",
        "```json\n",
        "// fetch_patient_record\n",
        "{ \"patient_summary\": \"Patient ID: P102\\nAge: 65, Sex: Female\\nReported Symptoms: chest pain, shortness of breath, tachycardia\\nPreliminary Diagnosis: Clinical suspicion of PE\\nRequested Procedure: CT Chest\\nClinical Notes: Wells score high probability; D-dimer positive.\" }\n",
        "\n",
        "// match_guideline\n",
        "{ \"matched_guideline\": \"CTPA is appropriate for high-probability PE with positive D-dimer. Required symptoms: chest pain, shortness of breath, tachycardia. Caveats: ensure renal function adequate for contrast.\" }\n",
        "\n",
        "// check_guideline_validity\n",
        "{ \"validity_result\": \"Criteria met: symptoms align and notes indicate high probability (Wells) with positive D-dimer. Imaging is medically necessary.\" }\n",
        "\n",
        "// recommend_care_plan\n",
        "{ \"recommendation\": \"Begin anticoagulation and confirm with CTPA; monitor hemodynamics; consider risk stratification.\" }\n"
      ],
      "metadata": {
        "id": "ZWq9Qnp8HvNA"
      }
    },
    {
      "cell_type": "code",
      "source": [
        "llm = ChatOpenAI(model=\"gpt-4o-mini\", temperature=0)\n",
        "\n",
        "@tool\n",
        "def fetch_patient_record(patient_id: str) -> dict:\n",
        "    \"\"\"\n",
        "    Fetches and summarizes a patient record based on the given patient ID.\n",
        "\n",
        "    Returns a human-readable summary including age, sex, symptoms, diagnosis, procedure, and clinical notes.\n",
        "    Also includes the raw patient record in case other tools or agents need structured access.\n",
        "\n",
        "    Args:\n",
        "        patient_id (str): The unique identifier for the patient.\n",
        "\n",
        "    Returns:\n",
        "        dict: {\n",
        "            \"summary\": str,  # Natural language summary of the patient record\n",
        "        }\n",
        "    \"\"\"\n",
        "    for record in patient_records:\n",
        "        if record[\"patient_id\"] == patient_id:\n",
        "            summary = (\n",
        "                f\"Patient ID: {record['patient_id']}\\n\"\n",
        "                f\"Age: {record['age']}, Sex: {record['sex']}\\n\"\n",
        "                f\"Reported Symptoms: {', '.join(record['symptoms'])}\\n\"\n",
        "                f\"Preliminary Diagnosis: {record['diagnosis']}\\n\"\n",
        "                f\"Requested Procedure: {record['procedure']}\\n\"\n",
        "                f\"Clinical Notes: {record['notes']}\"\n",
        "            )\n",
        "            return {\n",
        "                \"patient_summary\": summary\n",
        "            }\n",
        "    return {\"error\": \"Patient record not found.\"}\n",
        "\n",
        "\n",
        "@tool\n",
        "def match_guideline(procedure: str, diagnosis: str) -> dict:\n",
        "    \"\"\"\n",
        "    Match a given procedure and diagnosis to the most relevant clinical guideline.\n",
        "\n",
        "    Args:\n",
        "        procedure (str): The medical procedure being requested.\n",
        "        diagnosis (str): The diagnosis related to the procedure.\n",
        "\n",
        "    Returns:\n",
        "        dict: A summary of the best matching guideline if found, or a message indicating no match.\n",
        "    \"\"\"\n",
        "    context = \"\\n\".join([\n",
        "        f\"{i+1}. Procedure: {g['procedure']}, Diagnosis: {g['diagnosis']}, Required Symptoms: {g['required_symptoms']}, Notes: {g['notes']}\"\n",
        "        for i, g in enumerate(medical_guidelines)])\n",
        "\n",
        "    prompt = f\"\"\"You are a clinical reviewer assessing whether a requested medical procedure aligns with existing evidence-based guidelines.\n",
        "\n",
        "Instructions:\n",
        "- Analyze the patient's procedure and diagnosis.\n",
        "- Compare against the list of provided clinical guidelines.\n",
        "- Select the guideline that best fits the case by reasoning on the common matches considering procedure and diagnosis.\n",
        "- If none match, respond: \"No appropriate guideline found for this case.\"\n",
        "- If a match is found, summarize the matching guideline clearly including any required symptoms or caveats.\n",
        "\n",
        "Patient Case:\n",
        "- Procedure: {procedure}\n",
        "- Diagnosis: {diagnosis}\n",
        "\n",
        "Available Guidelines:\n",
        "{context}\n",
        "\"\"\"\n",
        "    result = llm.invoke(prompt).content\n",
        "    return {\"matched_guideline\": result}\n",
        "\n",
        "\n",
        "@tool\n",
        "def check_guideline_validity(symptoms: list, required_symptoms: list, notes: str) -> dict:\n",
        "    \"\"\"\n",
        "    Determine whether the patient's symptoms and notes satisfy the guideline criteria for medical necessity.\n",
        "\n",
        "    Args:\n",
        "        symptoms (list): List of symptoms recorded in the patient’s record.\n",
        "        required_symptoms (list): List of symptoms required by the matched guideline.\n",
        "        notes (str): Free-text clinical notes associated with the patient case.\n",
        "\n",
        "    Returns:\n",
        "        dict: A string with justification explaining whether the procedure is valid or not.\n",
        "    \"\"\"\n",
        "    prompt = f\"\"\"You are validating a medical procedure request based on documented symptoms and clinical context.\n",
        "\n",
        "Instructions:\n",
        "- Assess whether the patient's symptoms and notes fulfill the required guideline criteria.\n",
        "- Consider nuances or indirect references (e.g. \"long flight\" implies immobility).\n",
        "- Provide a reasoned judgment if the procedure is medically necessary.\n",
        "- If it does not qualify, explain exactly which criteria are unmet.\n",
        "\n",
        "Input:\n",
        "- Patient Symptoms: {symptoms}\n",
        "- Required Symptoms from Guideline: {required_symptoms}\n",
        "- Clinical Notes: {notes}\n",
        "\"\"\"\n",
        "    result = llm.invoke(prompt).content\n",
        "    return {\"validity_result\": result}\n",
        "\n",
        "\n",
        "@tool\n",
        "def recommend_care_plan(diagnosis: str) -> dict:\n",
        "    \"\"\"\n",
        "    Recommend a follow-up care plan based on a given diagnosis.\n",
        "\n",
        "    Args:\n",
        "        diagnosis (str): The diagnosis to evaluate for next steps.\n",
        "\n",
        "    Returns:\n",
        "        dict: A recommendation string describing the suggested care plan or a fallback message if no match is found.\n",
        "    \"\"\"\n",
        "    options = \"\\n\".join([\n",
        "        f\"{i+1}. Diagnosis: {c['diagnosis']}, Recommendation: {c['next_step']}\"\n",
        "        for i, c in enumerate(care_recommendations)])\n",
        "\n",
        "    prompt = f\"\"\"You are a clinical support assistant suggesting appropriate next steps for a given medical diagnosis.\n",
        "\n",
        "Instructions:\n",
        "- Analyze the given diagnosis.\n",
        "- Choose the closest match from the list of known recommendations.\n",
        "- Explain why the match is appropriate.\n",
        "- If no suitable recommendation is found, return: \"No care recommendation found for this diagnosis.\"\n",
        "\n",
        "Diagnosis Provided:\n",
        "{diagnosis}\n",
        "\n",
        "Available Recommendations:\n",
        "{options}\n",
        "\"\"\"\n",
        "    result = llm.invoke(prompt).content\n",
        "    return {\"recommendation\": result}"
      ],
      "metadata": {
        "id": "oHzod7nUX_ZZ"
      },
      "execution_count": null,
      "outputs": []
    },
    {
      "cell_type": "markdown",
      "source": [
        "### LangGraph Agent Setup\n",
        "\n",
        "This section wires up a **tool-using ReAct agent** with LangGraph. The agent reads a system prompt, plans calls to our tools, and produces a strict final summary (Decision, Reasoning, Care).\n",
        "\n",
        "#### Components\n",
        "- **System Prompt** — defines the reviewer role and enforces the final **bullet-format** output.\n",
        "- **State** — a `TypedDict` with a `messages` array aggregated by `add_messages`.\n",
        "- **LLM (ChatOpenAI)** — initialized with `streaming=True` and **bound** to tools so it can call them.\n",
        "- **Graph** — We use the building `create_react_agent` to create an agent `StateGraph`\n"
      ],
      "metadata": {
        "id": "sd0lLm3TIMBA"
      }
    },
    {
      "cell_type": "code",
      "source": [
        "single_agent_prompt = \"\"\"\n",
        "You are a senior medical review assistant responsible for evaluating healthcare procedure requests.\n",
        "\n",
        "You must call relevant tools to do the following:\n",
        "1. Retrieve the full patient record using the patient ID.\n",
        "2. Match the requested procedure and diagnosis to clinical guidelines.\n",
        "3. Validate the match by comparing the patient's symptoms and notes to the guideline's requirements.\n",
        "4. Recommend the appropriate next steps based on the diagnosis.\n",
        "5. Output a final summary based on the guidelines given below.\n",
        "\n",
        "Analyze all the results from the tool calls before making the final decision\n",
        "\n",
        "Your final response should ONLY include the following bullets in the exact format specified:\n",
        "\n",
        "- Final Decision: [APPROVED/NEEDS REVIEW]\n",
        "- Decision Reasoning: [What criteria matched or did not match]\n",
        "- Care recommendation or alternative steps: [care plan steps to take or alternative steps if it needs review]\n",
        "\n",
        "Do NOT add any other extra content in the final response\n",
        "\"\"\"\n",
        "AGENT_SYS_PROMPT = SystemMessage(content=single_agent_prompt)\n",
        "\n",
        "single_agent = create_react_agent(\n",
        "    model=llm,\n",
        "    tools=[fetch_patient_record, match_guideline, check_guideline_validity, recommend_care_plan],\n",
        "    prompt=AGENT_SYS_PROMPT\n",
        ")"
      ],
      "metadata": {
        "id": "By6-X5gzYBg_"
      },
      "execution_count": null,
      "outputs": []
    },
    {
      "cell_type": "code",
      "source": [
        "single_agent"
      ],
      "metadata": {
        "id": "OxWwaxgmnOpB"
      },
      "execution_count": null,
      "outputs": []
    },
    {
      "cell_type": "code",
      "source": [
        "def call_agent_system(agent, prompt, verbose=False):\n",
        "    events = agent.stream(\n",
        "        {\"messages\": [(\"user\", prompt)]},\n",
        "        {\"recursion_limit\": 25},\n",
        "        stream_mode=\"values\"\n",
        "    )\n",
        "    for event in events:\n",
        "        if verbose:\n",
        "            event[\"messages\"][-1].pretty_print()\n",
        "\n",
        "    print('\\nFinal Response:')\n",
        "    display(Markdown(event[\"messages\"][-1].content))"
      ],
      "metadata": {
        "id": "mGi49wBGYKpA"
      },
      "execution_count": null,
      "outputs": []
    },
    {
      "cell_type": "markdown",
      "source": [
        "## Start Tracing & Monitoring your Agent\n",
        "\n",
        "Enable LangSmith tracing to capture agent runs, then execute sample utilization review queries to observe how the agent interacts with tools.  \n",
        "\n",
        "- Run test prompts through the agent (e.g., patient cases) and log traces to LangSmith.  \n",
        "- Inspect recorded traces in the LangSmith UI to review inputs, tool calls, and final outputs.  \n",
        "- Show how adding a simple **in-memory cache** reduces repeated LLM/tool calls, lowering cost and latency while still logging to LangSmith.  \n",
        "- Use LangSmith’s **monitoring dashboards** to track latency, errors, and token usage across runs.  \n",
        "\n"
      ],
      "metadata": {
        "id": "DQsAPAbYJsx_"
      }
    },
    {
      "cell_type": "markdown",
      "source": [
        "### Run your Agent"
      ],
      "metadata": {
        "id": "FRruiiFgTZUY"
      }
    },
    {
      "cell_type": "code",
      "source": [
        "%%time\n",
        "import time\n",
        "\n",
        "for patient_id in [\"P101\", \"P102\", \"P103\", \"P104\", \"P105\"]:\n",
        "    prompt = f\"Review patient {patient_id} for procedure justification.\"\n",
        "    call_agent_system(single_agent, prompt, verbose=False)\n",
        "    time.sleep(3)"
      ],
      "metadata": {
        "id": "-P1F4bCEZATo"
      },
      "execution_count": null,
      "outputs": []
    },
    {
      "cell_type": "markdown",
      "source": [
        "### Check Traces on LangSmith\n",
        "\n",
        "View the recorded traces in the LangSmith UI to analyze how the agent processed each query.  \n",
        "\n",
        "- Inspect **inputs and outputs** for every run.  \n",
        "- Review **tool calls** in sequence to understand the decision-making path.  \n",
        "- Check **timings, token usage, and costs** to evaluate efficiency.  \n",
        "- Use the trace viewer to debug unexpected behaviors or confirm correct reasoning.  \n",
        "\n",
        "\n",
        "![](https://i.imgur.com/k5XC0pU.png)"
      ],
      "metadata": {
        "id": "7jzYKg0MLUAJ"
      }
    },
    {
      "cell_type": "markdown",
      "source": [
        "### Simple In-Memory Caching\n",
        "\n",
        "Demonstrate how to cache agent responses locally to avoid repeated LLM calls and reduce cost/latency.  \n",
        "\n",
        "- Use an **in-memory cache** to store and retrieve results for identical inputs.  \n",
        "- Show how caching integrates seamlessly with the agent while still logging traces.  \n",
        "- You can use other caching backends (e.g., **Redis**, **SQLite**) can be used for more robust setups.  \n"
      ],
      "metadata": {
        "id": "T0Qh9IkLNXCh"
      }
    },
    {
      "cell_type": "code",
      "source": [
        "from langchain_community.cache import InMemoryCache\n",
        "from langchain.globals import set_llm_cache\n",
        "\n",
        "set_llm_cache(InMemoryCache())"
      ],
      "metadata": {
        "id": "d4ZdAv5kqmyp"
      },
      "execution_count": null,
      "outputs": []
    },
    {
      "cell_type": "markdown",
      "source": [
        "### Run Agent on Patients - Before Caching\n",
        "\n",
        "Execute the agent on sample patient cases without caching enabled.  \n",
        "\n",
        "- Each query triggers full tool calls and LLM reasoning.  \n",
        "- All steps are traced to LangSmith for review.  \n",
        "- Results will be cached after the first execution, so repeated runs will show differences once caching is applied.  \n"
      ],
      "metadata": {
        "id": "FO0I0SHvNgBw"
      }
    },
    {
      "cell_type": "code",
      "source": [
        "%%time\n",
        "\n",
        "for patient_id in [\"P101\", \"P102\", \"P103\", \"P104\", \"P105\"]:\n",
        "    prompt = f\"Review patient {patient_id} for procedure justification.\"\n",
        "    call_agent_system(single_agent, prompt, verbose=False)\n",
        "    time.sleep(3)"
      ],
      "metadata": {
        "id": "EPXMn6LPwnzt"
      },
      "execution_count": null,
      "outputs": []
    },
    {
      "cell_type": "markdown",
      "source": [
        "### Check out the traces on LangSmith\n",
        "\n",
        "You will see a standard processing time of around ~15s per patient review\n",
        "\n",
        "![](https://i.imgur.com/t1Nzt5D.png)"
      ],
      "metadata": {
        "id": "y4JE7V0ONnyu"
      }
    },
    {
      "cell_type": "markdown",
      "source": [
        "### Run Agent on Patients - After Caching\n",
        "\n",
        "Re-run the same patient cases with caching enabled.  \n",
        "\n",
        "- Responses are retrieved directly from the cache instead of recomputing with the LLM.  \n",
        "- Execution is noticeably faster and avoids duplicate tool calls.  \n",
        "- Traces in LangSmith still capture the interaction but execution time taken is much faster\n"
      ],
      "metadata": {
        "id": "zG8RLa0HO74p"
      }
    },
    {
      "cell_type": "code",
      "source": [
        "%%time\n",
        "\n",
        "for patient_id in [\"P101\", \"P102\", \"P103\", \"P104\", \"P105\"]:\n",
        "    prompt = f\"Review patient {patient_id} for procedure justification.\"\n",
        "    call_agent_system(single_agent, prompt, verbose=False)\n",
        "    time.sleep(3)"
      ],
      "metadata": {
        "id": "PP-Ft3F5xOQo"
      },
      "execution_count": null,
      "outputs": []
    },
    {
      "cell_type": "markdown",
      "source": [
        "### Check out the traces on LangSmith\n",
        "\n",
        "You will see a standard processing time of around ~5.5s per patient review.\n",
        "\n",
        "There are a lot of ways to cache results including node level caching (still a WIP from LangGraph), semantic caching etc.\n",
        "\n",
        "![](https://i.imgur.com/sHLP0dw.png)"
      ],
      "metadata": {
        "id": "fhNobvVOTiZX"
      }
    },
    {
      "cell_type": "markdown",
      "source": [
        "### Monitoring your Agent\n",
        "\n",
        "Use LangSmith’s dashboards to track the health and performance of your agent over time.  \n",
        "\n",
        "- Access **pre-built dashboards** to view key metrics such as latency, error rates, token usage, and costs.  \n",
        "- Create **custom dashboards** to monitor metrics tailored to your use case.  \n",
        "- Filter by project, environment, or run tags to analyze performance across different deployments.  \n",
        "- Use monitoring insights to detect regressions, optimize efficiency, and improve reliability before scaling to production.  \n",
        "\n",
        "\n",
        "![](https://i.imgur.com/VlGeRMP.png)"
      ],
      "metadata": {
        "id": "z8huVRBuaNuX"
      }
    },
    {
      "cell_type": "markdown",
      "source": [
        "## Evaluate your Utilization Review AI Agent\n",
        "\n",
        "Assess the performance and reliability of the utilization review agent using LangSmith datasets and evaluators.  \n",
        "\n",
        "- **Create Evaluation Dataset**: Build a dataset of patient queries, expected outputs, and reference trajectories.  \n",
        "- **Define Reference Trajectories**: Capture the ideal sequence of tool calls for each test case.  \n",
        "- **Upload Dataset to LangSmith**: Store examples centrally to run evaluations at scale.  \n",
        "- **Goal Accuracy & Reasoning Evaluation**: Use **OpenEvals** with LLM-as-judge to compare the agent’s final outputs against reference answers.  \n",
        "- **Trajectory Accuracy Evaluation**: Use **AgentEvals** to check if the sequence of agent steps including llm calls, tool calls, responses matches the reference trajectory.  \n",
        "- **Run Evaluation in LangSmith**: Execute the evaluators against the dataset, view results in the UI, and compare across agent versions.  \n"
      ],
      "metadata": {
        "id": "zogCfSDvUBM8"
      }
    },
    {
      "cell_type": "markdown",
      "source": [
        "### Create an Evaluation Dataset\n",
        "\n",
        "Prepare a dataset of test cases to systematically evaluate the agent.  \n",
        "\n",
        "- Define **patient queries** representing different utilization review scenarios.  \n",
        "- Specify the **expected outputs** for each query\n",
        "- Store the dataset in a structured format so it can be uploaded and reused in LangSmith evaluations.  \n"
      ],
      "metadata": {
        "id": "aBY6W1elUOni"
      }
    },
    {
      "cell_type": "code",
      "source": [
        "EVAL_DATASET = 'Agent Evaluation Dataset - DHS 2025 - Demo'"
      ],
      "metadata": {
        "id": "K0MG2fvPUNd8"
      },
      "execution_count": null,
      "outputs": []
    },
    {
      "cell_type": "code",
      "source": [
        "from langsmith import Client\n",
        "\n",
        "# Initialize a client\n",
        "client = Client(timeout_ms=3600000)\n",
        "\n",
        "ls_dataset = client.create_dataset(\n",
        "    dataset_name=EVAL_DATASET,\n",
        "    description=\"Dataset of sample queries and responses to evaluate the performance of a healthcare utilization review agent\",\n",
        ")"
      ],
      "metadata": {
        "id": "cdt57OUNTtqr"
      },
      "execution_count": null,
      "outputs": []
    },
    {
      "cell_type": "markdown",
      "source": [
        "This create an empty evaluation dataset as shown below and we can start adding test records which can be used for evaluation\n",
        "\n",
        "![](https://i.imgur.com/D8GEEfh.png)"
      ],
      "metadata": {
        "id": "NB9l2vXWVAtP"
      }
    },
    {
      "cell_type": "markdown",
      "source": [
        "### Add Test Records to the Evaluation Dataset\n",
        "\n",
        "Populate the evaluation dataset with structured test records for the agent.  \n",
        "\n",
        "- **Input prompt**: The query or patient case given to the agent.  \n",
        "- **Output response**: The human-curated or LLM-generated reference answer showing the expected decision, reasoning, and recommendation.  \n",
        "- **Output trajectory**: Initially left empty; later populated with the full sequence of tool calls, LLM invocations, and responses observed during agent execution.  \n"
      ],
      "metadata": {
        "id": "TaTAMYMaVNVZ"
      }
    },
    {
      "cell_type": "code",
      "source": [
        "dataset = [\n",
        "    {\n",
        "        \"inputs\": {\n",
        "            \"prompt\": \"Review patient P101 for procedure justification.\",\n",
        "        },\n",
        "        \"outputs\": {\n",
        "            \"response\": \"The patient is experiencing abdominal pain and nausea, which aligns with two of the three required symptoms for a CT Abdomen in suspected appendicitis cases. However, the absence of RLQ (right lower quadrant) tenderness means the criteria are not fully met. Based on the guidelines, this case needs further review before proceeding with imaging. It is best to monitor the patient and consider clinical re-evaluation or alternative diagnostic approaches before ordering a CT scan.\",\n",
        "            \"trajectory\": []\n",
        "        }\n",
        "    },\n",
        "    {\n",
        "        \"inputs\": {\n",
        "            \"prompt\": \"Review patient P102 for procedure justification.\",\n",
        "        },\n",
        "        \"outputs\": {\n",
        "            \"response\": \"This patient's symptoms include chest pain, shortness of breath, and tachycardia, which match the guideline criteria for a CT Chest in suspected pulmonary embolism. In addition, the clinical notes mention a high Wells score and a positive D-dimer, both of which support the need for imaging. This procedure is medically appropriate and should be approved. Treatment with anticoagulants can be started, followed by confirmation through CTPA.\",\n",
        "            \"trajectory\": []\n",
        "        }\n",
        "    },\n",
        "    {\n",
        "        \"inputs\": {\n",
        "            \"prompt\": \"Review patient P103 for procedure justification.\",\n",
        "        },\n",
        "        \"outputs\": {\n",
        "            \"response\": \"The patient is presenting with recurrent headaches, which partially aligns with the guideline for an MRI Brain in migraine cases. However, the guideline also requires the presence of nausea or red flags, which are not noted in the record. Since the imaging criteria are not fully met, this case needs further review. It is better to begin migraine treatment and only consider imaging if new concerning symptoms appear.\",\n",
        "            \"trajectory\": []\n",
        "        }\n",
        "    },\n",
        "    {\n",
        "        \"inputs\": {\n",
        "            \"prompt\": \"Review patient P104 for procedure justification.\",\n",
        "        },\n",
        "        \"outputs\": {\n",
        "            \"response\": \"The patient reports back pain lasting more than 6 weeks along with neurological symptoms. Both are required for an MRI Lumbar Spine according to the guideline. The clinical note also states that physiotherapy has not helped, which further supports the imaging request. This procedure meets all the necessary criteria and is appropriate for approval.\",\n",
        "            \"trajectory\": []\n",
        "        }\n",
        "    },\n",
        "    {\n",
        "        \"inputs\": {\n",
        "            \"prompt\": \"Review patient P105 for procedure justification.\",\n",
        "        },\n",
        "        \"outputs\": {\n",
        "            \"response\": \"The patient has fever and cough, which align with the core symptoms for diagnosing pneumonia. Although a CT Chest is not typically the first imaging choice, in this case the chest X-ray was inconclusive and the patient is immunocompromised. These factors make advanced imaging justified. This procedure meets the guideline exceptions and should be approved to guide treatment effectively.\",\n",
        "            \"trajectory\": []\n",
        "        }\n",
        "    },\n",
        "]"
      ],
      "metadata": {
        "id": "ttTPAGP8pKtK"
      },
      "execution_count": null,
      "outputs": []
    },
    {
      "cell_type": "markdown",
      "source": [
        "### Get Agent Execution Trajectory per Test Record\n",
        "\n",
        "Execute the agent for each test input and capture the full step-by-step trajectory to use as the reference path.  \n",
        "\n",
        "- Run the agent on the test record to log **tool calls**, **LLM messages**, inputs, and intermediate outputs.  \n",
        "- Extract the ordered **trajectory** (all steps from start to final answer) and attach it to the test record.  \n",
        "- **Curate and validate** the trajectory with domain experts; correct any mistakes before finalizing.  \n",
        "- Save the approved trajectory as the **reference** for trajectory-based evaluations.  \n",
        "- Keep runs reproducible (fixed model/version and temperature) so trajectories remain comparable.  \n"
      ],
      "metadata": {
        "id": "WbhLMWW5VtFn"
      }
    },
    {
      "cell_type": "code",
      "source": [
        "for record in dataset:\n",
        "    record['outputs']['trajectory'] = single_agent.invoke({\"messages\": [(\"user\", record['inputs']['prompt'])]},\n",
        "                                        {\"recursion_limit\": 25})['messages']"
      ],
      "metadata": {
        "id": "WL2slPG5saZi"
      },
      "execution_count": null,
      "outputs": []
    },
    {
      "cell_type": "markdown",
      "source": [
        "### What does a Sample Agent Trajectory look like?\n",
        "\n",
        "It is basically all the execution steps in the agent including tool call requests, responses, agent calls, LLM call\\responses etc."
      ],
      "metadata": {
        "id": "skWvGQPJWlEv"
      }
    },
    {
      "cell_type": "code",
      "source": [
        "dataset[0]"
      ],
      "metadata": {
        "id": "ckxPAG6us89Z"
      },
      "execution_count": null,
      "outputs": []
    },
    {
      "cell_type": "code",
      "source": [
        "!gdown 1dSyjcjlFoZpYEqv4P9Oi0-kU2gIoolMB"
      ],
      "metadata": {
        "id": "Qtg12FE5W7s5"
      },
      "execution_count": null,
      "outputs": []
    },
    {
      "cell_type": "code",
      "source": [
        "from agent_utils import format_message"
      ],
      "metadata": {
        "id": "Yzek6-_HW06F"
      },
      "execution_count": null,
      "outputs": []
    },
    {
      "cell_type": "code",
      "source": [
        "for event in dataset[0]['outputs']['trajectory']:\n",
        "    format_message(event)"
      ],
      "metadata": {
        "id": "z2xqrvxNXByU"
      },
      "execution_count": null,
      "outputs": []
    },
    {
      "cell_type": "markdown",
      "source": [
        "### Upload Evaluation Dataset Records to LangSmith\n",
        "\n",
        "Send the curated evaluation dataset to LangSmith so it can be reused for automated testing and benchmarking.  \n",
        "\n",
        "- Use the LangSmith **Client API** to create examples from the test records.  \n",
        "- Each record includes the **input prompt**, **expected output response**, and the **reference trajectory**.  \n",
        "- Store the dataset under a clear name for easy lookup and reuse across evaluations.  \n",
        "- Uploaded datasets appear in the LangSmith UI and can be versioned or shared with team members.  \n"
      ],
      "metadata": {
        "id": "rPZNDL-8XL0M"
      }
    },
    {
      "cell_type": "code",
      "source": [
        "client = Client(timeout_ms=3600000)\n",
        "\n",
        "client.create_examples(\n",
        "        dataset_id=ls_dataset.id,\n",
        "        examples=dataset\n",
        ")"
      ],
      "metadata": {
        "id": "SiH0THtXtdHn"
      },
      "execution_count": null,
      "outputs": []
    },
    {
      "cell_type": "markdown",
      "source": [
        "You can now go to LangSmith and see inside the empty dataset, you will have 5 new records which can be used to test and evaluate your agent\n",
        "\n",
        "![](https://i.imgur.com/XzAjhWm.png)"
      ],
      "metadata": {
        "id": "OoZE1PaWYgBF"
      }
    },
    {
      "cell_type": "markdown",
      "source": [
        "### Create LLM-as-a-Judge Agent Evaluators\n",
        "\n",
        "Define three rubric-driven evaluators to score the agent’s final answer and its internal trajectory.\n",
        "\n",
        "- **Goal Accuracy (`goal_accuracy`)**  \n",
        "  Compares the agent’s **final decision** (APPROVED / NEEDS REVIEW) against the **human reference answer**.  \n",
        "  Uses `create_llm_as_judge` with a clinical rubric; evaluates agreement on the core decision, ignoring phrasing/formatting.\n",
        "\n",
        "- **Goal Reasoning Quality (`goal_reasoning_quality`)**  \n",
        "  Judges the **quality of reasoning** supporting the final decision relative to the reference.  \n",
        "  Uses `create_llm_as_judge` to assess whether the explanation is sound, clinically grounded, and aligned with the reference rationale.\n",
        "\n",
        "- **Trajectory Accuracy (`trajectory_accuracy`)**  \n",
        "  Evaluates the **step-by-step trajectory** (tool calls + intermediate reasoning) against a **reference trajectory**.  \n",
        "  Uses `create_trajectory_llm_as_judge` with a rubric for logical progression, medical appropriateness, and efficient tool use; allows minor wording/order variations when semantically equivalent.\n",
        "\n",
        "**Implementation notes**\n",
        "- All evaluators are initialized with **`model=\"openai:gpt-4o-mini\"`**, `use_reasoning=True`, and distinct `feedback_key`s.  \n",
        "- `run_agent()` wraps the LangGraph call and returns `{\"response\": result[\"messages\"]}` for downstream evaluators.  \n",
        "- Inputs to evaluators:  \n",
        "  - `inputs['prompt']` → the test query  \n",
        "  - `outputs['response'][-1].content` → agent’s final answer (for goal-based evaluators)  \n",
        "  - `reference_outputs['response']` → reference final answer  \n",
        "  - `reference_outputs['trajectory']` → reference step sequence (for trajectory evaluator)\n"
      ],
      "metadata": {
        "id": "f4zj9bKwX4Yq"
      }
    },
    {
      "cell_type": "code",
      "source": [
        "from openevals.llm import create_llm_as_judge\n",
        "from agentevals.trajectory.llm import create_trajectory_llm_as_judge\n",
        "\n",
        "\n",
        "def run_agent(inputs):\n",
        "    \"\"\"Run graph and track the trajectory it takes along with the final response.\"\"\"\n",
        "    result = single_agent.invoke({\"messages\": [{ \"role\": \"user\", \"content\": inputs['prompt']}]},\n",
        "                                 config={\"env\": \"test001\"})\n",
        "    return {\"response\": result[\"messages\"]}\n",
        "\n",
        "def goal_accuracy(inputs: dict, outputs: dict, reference_outputs: dict):\n",
        "\n",
        "    GOAL_ACCURACY_SYS_PROMPT = \"\"\"You are a clinical evaluation expert. Your task is to compare the decision made by an AI medical review assistant against a trusted human reference answer.\n",
        "\n",
        "    You will be given:\n",
        "    1. **AI Agent's Final Response**\n",
        "    2. **Human Reference Answer**\n",
        "\n",
        "    Focus only on whether the **Final Decision** made by the AI (either \"APPROVED\" or \"NEEDS REVIEW\") is medically correct based on the explanation provided in the **Human Reference Answer**.\n",
        "\n",
        "    Do not penalize the AI for minor differences in phrasing. Instead, verify if the AI's final decision **agrees or disagrees** with the core clinical judgment in the reference.\n",
        "\n",
        "    Ignore formatting differences, and do not rephrase.\n",
        "\n",
        "\n",
        "    <input>\n",
        "    {inputs}\n",
        "    </input>\n",
        "\n",
        "    <output>\n",
        "    {outputs}\n",
        "    </output>\n",
        "\n",
        "    Use the reference outputs below to help you evaluate the correctness of the response:\n",
        "\n",
        "    <reference_outputs>\n",
        "    {reference_outputs}\n",
        "    </reference_outputs>\n",
        "    \"\"\"\n",
        "\n",
        "    evaluator = create_llm_as_judge(\n",
        "        prompt=GOAL_ACCURACY_SYS_PROMPT,\n",
        "        model=\"openai:gpt-4o-mini\",\n",
        "        feedback_key=\"Goal-Accuracy\",\n",
        "        continuous=False,\n",
        "        use_reasoning=True,\n",
        "    )\n",
        "    eval_result = evaluator(\n",
        "        inputs=inputs['prompt'],\n",
        "        outputs=outputs['response'][-1].content,\n",
        "        reference_outputs=reference_outputs['response']\n",
        "    )\n",
        "    return eval_result\n",
        "\n",
        "\n",
        "def goal_reasoning_quality(inputs: dict, outputs: dict, reference_outputs: dict):\n",
        "\n",
        "    GOAL_REASONING_QUALITY_SYS_PROMPT = \"\"\"You are a clinical evaluation expert. Your task is to compare the decision made by an AI medical review assistant against a trusted human reference answer.\n",
        "\n",
        "    You will be given:\n",
        "    1. **AI Agent's Final Response**\n",
        "    2. **Human Reference Answer**\n",
        "\n",
        "    Focus only on whether the **Final Decision** made by the AI (either \"APPROVED\" or \"NEEDS REVIEW\") is medically correct based on the explanation provided in the **Human Reference Answer**.\n",
        "\n",
        "    Do not penalize the AI for minor differences in phrasing. Instead, verify if the AI's final decision **agrees or disagrees** with the core clinical judgment in the reference.\n",
        "\n",
        "    Ignore formatting differences, and do not rephrase.\n",
        "\n",
        "\n",
        "    <input>\n",
        "    {inputs}\n",
        "    </input>\n",
        "\n",
        "    <output>\n",
        "    {outputs}\n",
        "    </output>\n",
        "\n",
        "    Use the reference outputs below to help you evaluate the correctness of the response:\n",
        "\n",
        "    <reference_outputs>\n",
        "    {reference_outputs}\n",
        "    </reference_outputs>\n",
        "    \"\"\"\n",
        "\n",
        "    evaluator = create_llm_as_judge(\n",
        "        prompt=GOAL_REASONING_QUALITY_SYS_PROMPT,\n",
        "        model=\"openai:gpt-4o-mini\",\n",
        "        feedback_key=\"Goal-Good-Reasoning-Quality\",\n",
        "        continuous=False,\n",
        "        use_reasoning=True,\n",
        "\n",
        "    )\n",
        "    eval_result = evaluator(\n",
        "        inputs=inputs['prompt'],\n",
        "        outputs=outputs['response'][-1].content,\n",
        "        reference_outputs=reference_outputs['response']\n",
        "    )\n",
        "    return eval_result\n",
        "\n",
        "\n",
        "\n",
        "def trajectory_accuracy(inputs: dict, outputs: dict, reference_outputs: dict):\n",
        "\n",
        "    TRAJECTORY_ACCURACY_SYS_PROMPT = \"\"\"You are a clinical reasoning evaluator with expertise in reviewing multi-step medical AI workflows.\n",
        "\n",
        "    Your task is to assess the accuracy of an AI medical review agent's internal trajectory — the step-by-step reasoning and tool outputs used to arrive at its final decision.\n",
        "\n",
        "    <Rubric>\n",
        "    An accurate trajectory:\n",
        "    - Makes logical and clinical sense between each step\n",
        "    - Demonstrates clear and medically appropriate progression of thought\n",
        "    - Uses tools or steps efficiently and avoids redundant or irrelevant actions\n",
        "    - Is semantically equivalent to the provided reference trajectory, even if phrasing or order slightly differs\n",
        "    </Rubric>\n",
        "\n",
        "    Use the rubric to compare the actual trajectory against the trusted reference trajectory below.\n",
        "\n",
        "    <reference_trajectory>\n",
        "    {reference_outputs}\n",
        "    </reference_trajectory>\n",
        "\n",
        "    Grade this actual trajectory:\n",
        "\n",
        "    <trajectory>\n",
        "    {outputs}\n",
        "    </trajectory>\n",
        "    \"\"\"\n",
        "\n",
        "    evaluator = create_trajectory_llm_as_judge(\n",
        "        prompt=TRAJECTORY_ACCURACY_SYS_PROMPT,\n",
        "        model=\"openai:gpt-4o-mini\",\n",
        "        feedback_key=\"Trajectory-Accuracy\",\n",
        "        continuous=False,\n",
        "        use_reasoning=True,\n",
        "\n",
        "    )\n",
        "    eval_result = evaluator(\n",
        "        inputs=inputs['prompt'],\n",
        "        outputs=outputs['response'], # send full agent step by step execution trajectory\n",
        "        reference_outputs=reference_outputs['trajectory']\n",
        "    )\n",
        "    return eval_result\n",
        "\n"
      ],
      "metadata": {
        "id": "lRpw-arf1aKp"
      },
      "execution_count": null,
      "outputs": []
    },
    {
      "cell_type": "markdown",
      "source": [
        "### Evaluate your Utilization Review Agent on the Test Dataset with your Custom Evaluators\n",
        "\n",
        "Run batch evaluations in LangSmith using the curated dataset and the three LLM-as-judge evaluators.  \n",
        "\n",
        "- Initialize the **LangSmith Client** and load the dataset by name.  \n",
        "- Provide a runner (`run_agent`) that invokes the LangGraph agent for each test case.  \n",
        "- Attach the custom evaluators: **Goal Accuracy**, **Goal Reasoning Quality**, and **Trajectory Accuracy**.  \n",
        "- Call `client.evaluate(...)` to execute the suite over all examples and record results.  \n",
        "- Review pass/fail labels, comments, and scores in the LangSmith UI; compare runs across model/prompt versions.  \n",
        "- Use results to spot regressions, refine prompts/tools, and rerun until metrics are stable.  \n"
      ],
      "metadata": {
        "id": "tSYhEgyGYqnb"
      }
    },
    {
      "cell_type": "code",
      "source": [
        "from langsmith import Client\n",
        "\n",
        "client = Client(timeout_ms=3600000)\n",
        "\n",
        "experiment_results = client.evaluate(\n",
        "    run_agent,\n",
        "    data=ls_dataset.name, #EVAL_DATASET\n",
        "    evaluators=[goal_accuracy,\n",
        "                goal_reasoning_quality,\n",
        "                trajectory_accuracy],\n",
        "    experiment_prefix=\"agent-evals-dhs-\",\n",
        "    num_repetitions=1,\n",
        ")"
      ],
      "metadata": {
        "id": "S2-aqMjv4O5v"
      },
      "execution_count": null,
      "outputs": []
    },
    {
      "cell_type": "markdown",
      "source": [
        "You can then go to LangSmith and check out the evaluation results as depicted below in a default dashboard view.\n",
        "\n",
        "![](https://i.imgur.com/vVsyVKN.png)\n",
        "\n",
        "You can also click on any eval experiment run and drill down into detailed output traces for any experiment as depicted below.\n",
        "\n",
        "![](https://i.imgur.com/yw5bd5T.png)"
      ],
      "metadata": {
        "id": "cK34-tq8ZSM6"
      }
    },
    {
      "cell_type": "markdown",
      "source": [
        "## Creating Custom Evaluators\n",
        "\n",
        "This is only if you want to create your own evaluators without using any libraries"
      ],
      "metadata": {
        "id": "V3mKLRw1iY4g"
      }
    },
    {
      "cell_type": "code",
      "source": [
        "# # Create your own custom Evaluator functions with custom schema if needed\n",
        "# def goal_accuracy(inputs: dict, outputs: dict, reference_outputs: dict) -> bool:\n",
        "#     \"\"\"Evaluate if the final response is equivalent to reference response.\"\"\"\n",
        "\n",
        "#     GOAL_ACCURACY_SYS_PROMPT = \"\"\"You are a clinical evaluation expert. Your task is to compare the decision made by an AI medical review assistant against a trusted human reference answer.\n",
        "\n",
        "#     You will be given:\n",
        "#     1. **AI Agent's Final Response**\n",
        "#     2. **Human Reference Answer**\n",
        "\n",
        "#     Focus only on whether the **Final Decision** made by the AI (either \"APPROVED\" or \"NEEDS REVIEW\") is medically correct based on the explanation provided in the **Human Reference Answer**.\n",
        "\n",
        "#     Do not penalize the AI for minor differences in phrasing. Instead, verify if the AI's final decision **agrees or disagrees** with the core clinical judgment in the reference.\n",
        "\n",
        "#     Ignore formatting differences, and do not rephrase. Just return the evaluation in the following JSON format (no markdown):\n",
        "\n",
        "\n",
        "#     {{\n",
        "#      \"correct_decision\": true or false,\n",
        "#      \"explanation\": \"Concise explanation of whether the AI's decision matches or contradicts the human reference, and why\"\n",
        "#     }}\n",
        "#     \"\"\"\n",
        "\n",
        "#     user = f\"\"\"INPUT PROMPT: {inputs['prompt']}\n",
        "#                HUMAN REFERENCE RESPONSE: {reference_outputs['response']}\n",
        "#                AI AGENT RESPONSE: {outputs['response'][-1].content}\"\"\"\n",
        "\n",
        "#     result = llm.invoke([{\"role\": \"system\", \"content\": GOAL_ACCURACY_SYS_PROMPT},\n",
        "#                                {\"role\": \"user\", \"content\": user}]).content\n",
        "\n",
        "#     if result.startswith(\"```json\"):\n",
        "#         result = result.replace(\"```json\", \"\").replace(\"```\", \"\").strip()\n",
        "#     result = json.loads(result)\n",
        "#     return {\n",
        "#         \"key\": \"goal_accuracy\",\n",
        "#         \"score\": result[\"correct_decision\"],\n",
        "#         \"comment\": result[\"explanation\"]\n",
        "#     }\n",
        "\n",
        "\n",
        "# def goal_reasoning_quality(inputs: dict, outputs: dict, reference_outputs: dict) -> bool:\n",
        "#     \"\"\"Evaluate if the final response is equivalent to reference response.\"\"\"\n",
        "\n",
        "#     GOAL_REASONING_QUALITY_SYS_PROMPT = \"\"\"You are a clinical evaluation expert. Your task is to assess the quality of the **Decision Reasoning** provided by an AI medical review assistant by comparing it to a trusted human reference answer.\n",
        "\n",
        "#     You will be given:\n",
        "#     1. **AI Agent's Final Response**\n",
        "#     2. **Human Reference Answer**\n",
        "\n",
        "#     Focus only on the **\"Decision Reasoning\"** part of the AI response. Evaluate whether the reasoning:\n",
        "#     - Is clinically sound\n",
        "#     - Accurately reflects key symptoms or criteria from the guideline\n",
        "#     - Aligns with the explanation and logic in the human reference\n",
        "#     - Is neither vague nor misleading\n",
        "\n",
        "#     Do not evaluate the Final Decision itself. You are only evaluating how well the AI justified its decision.\n",
        "\n",
        "#     Do not penalize for minor wording differences. Focus on clinical accuracy and alignment of the reasoning.\n",
        "\n",
        "#     Return your evaluation in the following strict JSON format (no markdown):\n",
        "\n",
        "#     {{\n",
        "#      \"good_reasoning\": true or false,\n",
        "#      \"explanation\": \"Concise explanation of whether the AI's reasoning was medically accurate and aligned with the reference, or why it fell short\"\n",
        "#     }}\n",
        "#     \"\"\"\n",
        "\n",
        "#     user = f\"\"\"INPUT PROMPT: {inputs['prompt']}\n",
        "#                HUMAN REFERENCE RESPONSE: {reference_outputs['response']}\n",
        "#                AI AGENT RESPONSE: {outputs['response'][-1].content}\"\"\"\n",
        "\n",
        "#     result = llm.invoke([{\"role\": \"system\", \"content\": GOAL_REASONING_QUALITY_SYS_PROMPT},\n",
        "#                                {\"role\": \"user\", \"content\": user}]).content\n",
        "\n",
        "#     if result.startswith(\"```json\"):\n",
        "#         result = result.replace(\"```json\", \"\").replace(\"```\", \"\").strip()\n",
        "#     result = json.loads(result)\n",
        "#     return {\n",
        "#         \"key\": \"goal_good_reasoning_quality\",\n",
        "#         \"score\": result[\"good_reasoning\"],\n",
        "#         \"comment\": result[\"explanation\"]\n",
        "#     }\n",
        "\n"
      ],
      "metadata": {
        "id": "Y-wHDE_Bf1Vf"
      },
      "execution_count": null,
      "outputs": []
    }
  ]
}
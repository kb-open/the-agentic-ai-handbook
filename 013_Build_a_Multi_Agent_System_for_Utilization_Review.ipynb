{
  "cells": [
    {
      "cell_type": "markdown",
      "metadata": {
        "id": "view-in-github",
        "colab_type": "text"
      },
      "source": [
        "<a href=\"https://colab.research.google.com/github/dipanjanS/mastering-intelligent-agents-langgraph-workshop-dhs2025/blob/main/Module-4-Building-Advanced-Agentic-AI-Systems/M4LC3_Build_a_Multi_Agent_System_for_Utilization_Review.ipynb\" target=\"_parent\"><img src=\"https://colab.research.google.com/assets/colab-badge.svg\" alt=\"Open In Colab\"/></a>"
      ]
    },
    {
      "cell_type": "markdown",
      "id": "cf3e7897",
      "metadata": {
        "id": "cf3e7897"
      },
      "source": [
        "# Build a Multi-Agent System for Utilization Review with LangGraph\n",
        "\n",
        "![](https://i.imgur.com/44rj36e.png)\n",
        "\n",
        "### What is a utilization review?\n",
        "\n",
        "A utilization review is a process in which a patient's care plan undergoes evaluation, typically for inpatient services on a case-by-case basis.\n",
        "\n",
        "The **review determines the medical necessity of procedures and might make recommendations for alternative care or treatment**. Hospitals usually employ a utilization review (UR) healthcare professional who communicates with the insurance company to evaluate the criteria needed to approve surgeries or treatments.\n",
        "\n",
        "\n",
        "### Multi-Agent System for Clinical Decision Support\n",
        "\n",
        "The diagram illustrates a **multi-agent architecture** designed for healthcare decision support.  \n",
        "It consists of several specialized agents, datasets, and tools orchestrated under a supervisor.\n",
        "\n",
        "![](https://i.imgur.com/EzayV5W.png)\n",
        "\n",
        "#### 1. Supervisor Agent\n",
        "- Central coordinator of the workflow.  \n",
        "- Uses a **System Prompt** and an **LLM** to decide which specialized agent should handle a task.  \n",
        "- Collects results and routes them to produce the **Final Decision Output**.\n",
        "\n",
        "#### 2. Specialized Agents\n",
        "- **Clinical Intake Agent (📄)**  \n",
        "  - Gathers patient information.  \n",
        "  - Interacts with the **Patient Records** dataset through the **Fetch Patient Record** tool.  \n",
        "\n",
        "- **Guideline Checker Agent (📊)**  \n",
        "  - Validates care recommendations against medical standards.  \n",
        "  - Uses the **Match Guideline** and **Check Guideline Validity** tools with the **Medical Guidelines** dataset.  \n",
        "\n",
        "- **Care Recommender Agent (💡)**  \n",
        "  - Suggests appropriate treatments or interventions.  \n",
        "  - Accesses the **Care Recommendations** dataset using the **Fetch Recommendation** tool.  \n",
        "\n",
        "Each agent runs on a **System Prompt** + **LLM** combination for reasoning.\n",
        "\n",
        "#### 3. Tools Layer\n",
        "- Interfaces that allow agents to access external knowledge.  \n",
        "- Includes:\n",
        "  - 📄 **Fetch Patient Record**\n",
        "  - 📊 **Match Guideline**\n",
        "  - ✅ **Check Guideline Validity**\n",
        "  - 💡 **Fetch Recommendation**\n",
        "\n",
        "#### 4. Datasets Layer\n",
        "- **Patient Records**  \n",
        "- **Medical Guidelines**  \n",
        "- **Care Recommendations**  \n",
        "\n",
        "These serve as the structured data sources powering the agents’ reasoning.\n",
        "\n",
        "#### 5. Final Output\n",
        "- The **Supervisor Agent** aggregates results from the intake, guideline validation, and recommendation agents.  \n",
        "- Produces a **Final Decision Output** for clinical use.\n",
        "\n",
        "---\n",
        "\n",
        "**Summary:**  \n",
        "This system demonstrates how **multi-agent collaboration** can enhance healthcare workflows. Each agent has a well-defined role—intake, validation, recommendation, while the supervisor ensures proper task distribution and final decision-making.\n",
        "\n",
        "\n",
        "\n",
        "\n",
        "\n"
      ]
    },
    {
      "cell_type": "markdown",
      "source": [
        "## Install OpenAI, LangGraph and LangChain dependencies"
      ],
      "metadata": {
        "id": "9hEI3WL328vZ"
      },
      "id": "9hEI3WL328vZ"
    },
    {
      "cell_type": "code",
      "execution_count": null,
      "id": "50d1bc2d",
      "metadata": {
        "id": "50d1bc2d"
      },
      "outputs": [],
      "source": [
        "!pip install langchain==0.3.27 langchain-community==0.3.27 langchain-openai==0.3.30 langgraph==0.6.5 --quiet"
      ]
    },
    {
      "cell_type": "markdown",
      "metadata": {
        "id": "j7ytgT0Taut7"
      },
      "source": [
        "## Configure API Keys & Environment\n",
        "\n",
        "Set your OpenAI API key for `ChatOpenAI` and set it in the environment"
      ],
      "id": "j7ytgT0Taut7"
    },
    {
      "cell_type": "code",
      "source": [
        "import os\n",
        "import getpass\n",
        "\n",
        "# OpenAI API Key (for chat & embeddings)\n",
        "if not os.environ.get(\"OPENAI_API_KEY\"):\n",
        "    os.environ[\"OPENAI_API_KEY\"] = getpass.getpass(\"Enter your OpenAI API key (https://platform.openai.com/account/api-keys):\\n\")"
      ],
      "metadata": {
        "id": "cv3JzCEx_PAd"
      },
      "execution_count": null,
      "outputs": [],
      "id": "cv3JzCEx_PAd"
    },
    {
      "cell_type": "markdown",
      "metadata": {
        "id": "3EHVBxMNaut8"
      },
      "source": [
        "## Sample Data (Guidelines, Care Plans, Patient Records)\n",
        "\n",
        "This notebook uses **in-memory** Python lists to keep the demo self-contained.  \n",
        "You can later swap these out for a database or API without changing the agent’s logic.\n",
        "\n",
        "### What’s included\n",
        "- **`medical_guidelines`** — evidence-style rules the agent can match against.\n",
        "  - Fields: `procedure`, `diagnosis`, `required_symptoms` (list), `notes` (free text).\n",
        "  - Example:\n",
        "    ```python\n",
        "    {\n",
        "      \"procedure\": \"CT Abdomen\",\n",
        "      \"diagnosis\": \"Suspected Appendicitis\",\n",
        "      \"required_symptoms\": [\"abdominal pain\", \"nausea\", \"RLQ tenderness\"],\n",
        "      \"notes\": \"CT imaging justified if appendicitis is unclear.\"\n",
        "    }\n",
        "    ```\n",
        "- **`care_recommendations`** — next-step suggestions keyed by diagnosis.\n",
        "  - Fields: `diagnosis`, `next_step`.\n",
        "  - Example:\n",
        "    ```python\n",
        "    {\n",
        "      \"diagnosis\": \"Community-Acquired Pneumonia\",\n",
        "      \"next_step\": \"Start empirical antibiotics; reserve CT for poor responders.\"\n",
        "    }\n",
        "    ```\n",
        "- **`patient_records`** — patient data including what **procedure** has been recommended to them based on their **diagnosis**.\n",
        "  - Fields: `patient_id`, `age`, `sex`, `symptoms` (list), `diagnosis`, `procedure`, `notes`.\n",
        "  - Example:\n",
        "    ```python\n",
        "    {\n",
        "      \"patient_id\": \"P101\",\n",
        "      \"age\": 38,\n",
        "      \"sex\": \"Male\",\n",
        "      \"symptoms\": [\"abdominal pain\", \"nausea\"],\n",
        "      \"diagnosis\": \"Possible early appendicitis\",\n",
        "      \"procedure\": \"CT Abdomen\",\n",
        "      \"notes\": \"Mild abdominal pain and nausea but no localized tenderness or rebound noted.\"\n",
        "    }\n",
        "    ```\n",
        "\n",
        "### How the agent uses these\n",
        "- **Guideline matching**: `procedure` + `diagnosis` → pick the closest entry in `medical_guidelines`.\n",
        "- **Validity check**: compare `patient_records[*].symptoms` vs. `required_symptoms` and read `notes`.\n",
        "- **Care plan**: map `diagnosis` → `care_recommendations[*].next_step`."
      ],
      "id": "3EHVBxMNaut8"
    },
    {
      "cell_type": "code",
      "source": [
        "medical_guidelines = [\n",
        "    {\"procedure\": \"MRI Brain\", \"diagnosis\": \"Migraine\", \"required_symptoms\": [\"headache\", \"nausea\"],\n",
        "     \"notes\": \"MRI not recommended unless neurological deficits or red flags present.\"},\n",
        "    {\"procedure\": \"CT Chest\", \"diagnosis\": \"Suspected Pulmonary Embolism\", \"required_symptoms\": [\"chest pain\", \"shortness of breath\", \"tachycardia\"],\n",
        "     \"notes\": \"CTPA appropriate for high probability PE cases with positive D-dimer.\"},\n",
        "    {\"procedure\": \"MRI Lumbar Spine\", \"diagnosis\": \"Chronic Low Back Pain\", \"required_symptoms\": [\"back pain > 6 weeks\", \"neurological deficit\"],\n",
        "     \"notes\": \"MRI only if pain persists despite conservative therapy and neuro signs are present.\"},\n",
        "    {\"procedure\": \"CT Chest\", \"diagnosis\": \"Community-Acquired Pneumonia\", \"required_symptoms\": [\"fever\", \"cough\"],\n",
        "     \"notes\": \"CT Chest reserved for inconclusive X-rays or immunocompromised patients.\"},\n",
        "    {\"procedure\": \"CT Abdomen\", \"diagnosis\": \"Suspected Appendicitis\", \"required_symptoms\": [\"abdominal pain\", \"nausea\", \"RLQ tenderness\"],\n",
        "     \"notes\": \"CT imaging justified if appendicitis is unclear.\"}\n",
        "]\n",
        "\n",
        "care_recommendations = [\n",
        "    {\"diagnosis\": \"Migraine\", \"next_step\": \"Start migraine treatment; imaging not necessary unless red flags appear.\"},\n",
        "    {\"diagnosis\": \"Suspected Pulmonary Embolism\", \"next_step\": \"Begin anticoagulation and confirm with CTPA.\"},\n",
        "    {\"diagnosis\": \"Chronic Low Back Pain\", \"next_step\": \"Refer to physiotherapy; MRI only if neuro symptoms persist.\"},\n",
        "    {\"diagnosis\": \"Community-Acquired Pneumonia\", \"next_step\": \"Start empirical antibiotics; reserve CT for poor responders.\"},\n",
        "    {\"diagnosis\": \"Suspected Appendicitis\", \"next_step\": \"Do CT to confirm and refer for surgery if positive.\"}\n",
        "]\n",
        "\n",
        "patient_records = [\n",
        "    {\n",
        "        \"patient_id\": \"P101\",\n",
        "        \"age\": 38,\n",
        "        \"sex\": \"Male\",\n",
        "        \"symptoms\": [\"abdominal pain\", \"nausea\"],\n",
        "        \"diagnosis\": \"Possible early appendicitis\", \"procedure\": \"CT Abdomen\",\n",
        "        \"notes\": \"Mild abdominal pain and nausea but no localized tenderness or rebound noted.\"\n",
        "    },\n",
        "    {\n",
        "        \"patient_id\": \"P102\",\n",
        "        \"age\": 65,\n",
        "        \"sex\": \"Female\",\n",
        "        \"symptoms\": [\"chest pain\", \"shortness of breath\", \"tachycardia\"],\n",
        "        \"diagnosis\": \"Clinical suspicion of PE\", \"procedure\": \"CT Chest\",\n",
        "        \"notes\": \"Wells score high probability; D-dimer positive.\"\n",
        "    },\n",
        "    {\n",
        "        \"patient_id\": \"P103\",\n",
        "        \"age\": 30,\n",
        "        \"sex\": \"Female\",\n",
        "        \"symptoms\": [\"recurrent headache\"],\n",
        "        \"diagnosis\": \"Classic migraine presentation\", \"procedure\": \"MRI Brain\",\n",
        "        \"notes\": \"No neuro signs or red flags. Typical migraine pattern.\"\n",
        "    }\n",
        "]"
      ],
      "metadata": {
        "id": "R7aMEQ4k7A9F"
      },
      "id": "R7aMEQ4k7A9F",
      "execution_count": null,
      "outputs": []
    },
    {
      "cell_type": "markdown",
      "metadata": {
        "id": "V1van588HmLs"
      },
      "source": [
        "### Tools for the Utilization Review Agent\n",
        "\n",
        "These are **tools** (decorated with `@tool`) that the agent can call during a review.  \n",
        "They encapsulate domain logic and return **small, structured dicts** the agent can reason over.\n",
        "\n",
        "#### Summary of tools\n",
        "\n",
        "| Tool | Purpose | Inputs | Output keys |\n",
        "|---|---|---|---|\n",
        "| `fetch_patient_record` | Retrieve and summarize a patient chart from in-memory data | `patient_id: str` | `patient_summary` _(str)_, or `error` |\n",
        "| `match_guideline` | Pick the closest clinical guideline for a (procedure, diagnosis) pair using the LLM | `procedure: str`, `diagnosis: str` | `matched_guideline` _(str)_ |\n",
        "| `check_guideline_validity` | Validate whether patient symptoms/notes meet the guideline’s criteria | `symptoms: list[str]`, `required_symptoms: list[str]`, `notes: str` | `validity_result` _(str)_ |\n",
        "| `recommend_care_plan` | Suggest next steps for the given diagnosis | `diagnosis: str` | `recommendation` _(str)_ |\n",
        "\n",
        "> All LLM-backed tools use `ChatOpenAI` (temperature = 0, streaming enabled in code) and return **concise textual justifications** under a single key.\n",
        "\n",
        "#### Typical call order used by the agent\n",
        "1. `fetch_patient_record(patient_id)` → summarize context  \n",
        "2. `match_guideline(procedure, diagnosis)` → find best-fit rule  \n",
        "3. `check_guideline_validity(symptoms, required_symptoms, notes)` → approve vs. needs review  \n",
        "4. `recommend_care_plan(diagnosis)` → action steps / alternatives\n",
        "\n",
        "#### Example outputs (shape)\n",
        "```json\n",
        "// fetch_patient_record\n",
        "{ \"patient_summary\": \"Patient ID: P102\\nAge: 65, Sex: Female\\nReported Symptoms: chest pain, shortness of breath, tachycardia\\nPreliminary Diagnosis: Clinical suspicion of PE\\nRequested Procedure: CT Chest\\nClinical Notes: Wells score high probability; D-dimer positive.\" }\n",
        "\n",
        "// match_guideline\n",
        "{ \"matched_guideline\": \"CTPA is appropriate for high-probability PE with positive D-dimer. Required symptoms: chest pain, shortness of breath, tachycardia. Caveats: ensure renal function adequate for contrast.\" }\n",
        "\n",
        "// check_guideline_validity\n",
        "{ \"validity_result\": \"Criteria met: symptoms align and notes indicate high probability (Wells) with positive D-dimer. Imaging is medically necessary.\" }\n",
        "\n",
        "// recommend_care_plan\n",
        "{ \"recommendation\": \"Begin anticoagulation and confirm with CTPA; monitor hemodynamics; consider risk stratification.\" }\n"
      ],
      "id": "V1van588HmLs"
    },
    {
      "cell_type": "code",
      "execution_count": null,
      "id": "ed52ad3f",
      "metadata": {
        "id": "ed52ad3f"
      },
      "outputs": [],
      "source": [
        "from langchain_core.tools import tool\n",
        "from langchain_openai import ChatOpenAI\n",
        "\n",
        "llm = ChatOpenAI(model=\"gpt-4o-mini\", temperature=0)\n",
        "\n",
        "@tool\n",
        "def fetch_patient_record(patient_id: str) -> dict:\n",
        "    \"\"\"\n",
        "    Fetches and summarizes a patient record based on the given patient ID.\n",
        "\n",
        "    Returns a human-readable summary including age, sex, symptoms, diagnosis, procedure, and clinical notes.\n",
        "    Also includes the raw patient record in case other tools or agents need structured access.\n",
        "\n",
        "    Args:\n",
        "        patient_id (str): The unique identifier for the patient.\n",
        "\n",
        "    Returns:\n",
        "        dict: {\n",
        "            \"summary\": str,  # Natural language summary of the patient record\n",
        "        }\n",
        "    \"\"\"\n",
        "    for record in patient_records:\n",
        "        if record[\"patient_id\"] == patient_id:\n",
        "            summary = f\"\"\"\n",
        "                        Patient Record:\n",
        "                        - Patient ID: {record['patient_id']}\n",
        "                        - Age: {record['age']}\n",
        "                        - Sex: {record['sex']}\n",
        "                        - Reported Symptoms: {', '.join(record['symptoms'])}\n",
        "                        - Preliminary Diagnosis: {record['diagnosis']}\n",
        "                        - Requested Procedure: {record['procedure']}\n",
        "                        - Clinical Notes: {record['notes']}\n",
        "                      \"\"\"\n",
        "            return {\n",
        "                \"patient_summary\": summary\n",
        "            }\n",
        "    return {\"error\": \"Patient record not found.\"}\n",
        "\n",
        "\n",
        "@tool\n",
        "def match_guideline(procedure: str, diagnosis: str) -> dict:\n",
        "    \"\"\"\n",
        "    Match a given procedure and diagnosis to the most relevant clinical guideline.\n",
        "\n",
        "    Args:\n",
        "        procedure (str): The medical procedure being requested.\n",
        "        diagnosis (str): The diagnosis related to the procedure.\n",
        "\n",
        "    Returns:\n",
        "        dict: A summary of the best matching guideline if found, or a message indicating no match.\n",
        "    \"\"\"\n",
        "    context = \"\\n\".join([\n",
        "        f\"{i+1}. Procedure: {g['procedure']}, Diagnosis: {g['diagnosis']}, Required Symptoms: {g['required_symptoms']}, Notes: {g['notes']}\"\n",
        "        for i, g in enumerate(medical_guidelines)])\n",
        "\n",
        "    prompt = f\"\"\"You are a clinical reviewer assessing whether a requested medical procedure aligns with existing evidence-based guidelines.\n",
        "\n",
        "Instructions:\n",
        "- Analyze the patient's procedure and diagnosis.\n",
        "- Compare against the list of provided clinical guidelines.\n",
        "- Select the guideline that best fits the case by reasoning on the common matches considering procedure and diagnosis.\n",
        "- If none match, respond: \"No appropriate guideline found for this case.\"\n",
        "- If a match is found, summarize the matching guideline clearly including any required symptoms or caveats.\n",
        "\n",
        "Patient Case:\n",
        "- Procedure: {procedure}\n",
        "- Diagnosis: {diagnosis}\n",
        "\n",
        "Available Guidelines:\n",
        "{context}\n",
        "\"\"\"\n",
        "    result = llm.invoke(prompt).content\n",
        "    return {\"matched_guideline\": result}\n",
        "\n",
        "\n",
        "@tool\n",
        "def check_guideline_validity(symptoms: list, required_symptoms: list, notes: str) -> dict:\n",
        "    \"\"\"\n",
        "    Determine whether the patient's symptoms and notes satisfy the guideline criteria for medical necessity.\n",
        "\n",
        "    Args:\n",
        "        symptoms (list): List of symptoms recorded in the patient’s record.\n",
        "        required_symptoms (list): List of symptoms required by the matched guideline.\n",
        "        notes (str): Free-text clinical notes associated with the patient case.\n",
        "\n",
        "    Returns:\n",
        "        dict: A string with justification explaining whether the procedure is valid or not.\n",
        "    \"\"\"\n",
        "    prompt = f\"\"\"You are validating a medical procedure request based on documented symptoms and clinical context.\n",
        "\n",
        "Instructions:\n",
        "- Assess whether the patient's symptoms and notes fulfill the required guideline criteria.\n",
        "- Consider nuances or indirect references (e.g. \"long flight\" implies immobility).\n",
        "- Provide a reasoned judgment if the procedure is medically necessary.\n",
        "- If it does not qualify, explain exactly which criteria are unmet.\n",
        "\n",
        "Input:\n",
        "- Patient Symptoms: {symptoms}\n",
        "- Required Symptoms from Guideline: {required_symptoms}\n",
        "- Clinical Notes: {notes}\n",
        "\"\"\"\n",
        "    result = llm.invoke(prompt).content\n",
        "    return {\"validity_result\": result}\n",
        "\n",
        "\n",
        "@tool\n",
        "def recommend_care_plan(diagnosis: str) -> dict:\n",
        "    \"\"\"\n",
        "    Recommend a follow-up care plan based on a given diagnosis.\n",
        "\n",
        "    Args:\n",
        "        diagnosis (str): The diagnosis to evaluate for next steps.\n",
        "\n",
        "    Returns:\n",
        "        dict: A recommendation string describing the suggested care plan or a fallback message if no match is found.\n",
        "    \"\"\"\n",
        "    options = \"\\n\".join([\n",
        "        f\"{i+1}. Diagnosis: {c['diagnosis']}, Recommendation: {c['next_step']}\"\n",
        "        for i, c in enumerate(care_recommendations)])\n",
        "\n",
        "    prompt = f\"\"\"You are a clinical support assistant suggesting appropriate next steps for a given medical diagnosis.\n",
        "\n",
        "Instructions:\n",
        "- Analyze the given diagnosis.\n",
        "- Choose the closest match from the list of known recommendations.\n",
        "- Explain why the match is appropriate.\n",
        "- If no suitable recommendation is found, return: \"No care recommendation found for this diagnosis.\"\n",
        "\n",
        "Diagnosis Provided:\n",
        "{diagnosis}\n",
        "\n",
        "Available Recommendations:\n",
        "{options}\n",
        "\"\"\"\n",
        "    result = llm.invoke(prompt).content\n",
        "    return {\"recommendation\": result}"
      ]
    },
    {
      "cell_type": "markdown",
      "metadata": {
        "id": "Hbar8RBSHwSG"
      },
      "source": [
        "## Multi-Agent System with Supervisor\n",
        "\n",
        "The diagram illustrates a **multi-agent architecture** designed for healthcare decision support.  \n",
        "It consists of several specialized agents, datasets, and tools orchestrated under a supervisor.\n",
        "\n",
        "![](https://i.imgur.com/EzayV5W.png)\n",
        "\n",
        "#### 1. Supervisor Agent\n",
        "- Central coordinator of the workflow.  \n",
        "- Uses a **System Prompt** and an **LLM** to decide which specialized agent should handle a task.  \n",
        "- Collects results and routes them to produce the **Final Decision Output**.\n",
        "\n",
        "#### 2. Specialized Agents\n",
        "- **Clinical Intake Agent (📄)**  \n",
        "  - Gathers patient information.  \n",
        "  - Interacts with the **Patient Records** dataset through the **Fetch Patient Record** tool.  \n",
        "\n",
        "- **Guideline Checker Agent (📊)**  \n",
        "  - Validates care recommendations against medical standards.  \n",
        "  - Uses the **Match Guideline** and **Check Guideline Validity** tools with the **Medical Guidelines** dataset.  \n",
        "\n",
        "- **Care Recommender Agent (💡)**  \n",
        "  - Suggests appropriate treatments or interventions.  \n",
        "  - Accesses the **Care Recommendations** dataset using the **Fetch Recommendation** tool.  \n",
        "\n",
        "Each agent runs on a **System Prompt** + **LLM** combination for reasoning."
      ],
      "id": "Hbar8RBSHwSG"
    },
    {
      "cell_type": "markdown",
      "source": [
        "### Implement Sub-Agents (Worker Agents)"
      ],
      "metadata": {
        "id": "_xVniw5UT8Es"
      },
      "id": "_xVniw5UT8Es"
    },
    {
      "cell_type": "code",
      "execution_count": null,
      "id": "cc3b7912",
      "metadata": {
        "id": "cc3b7912"
      },
      "outputs": [],
      "source": [
        "from langgraph.prebuilt import create_react_agent\n",
        "\n",
        "clinical_intake_agent = create_react_agent(\n",
        "    llm,\n",
        "    tools=[fetch_patient_record],\n",
        "    prompt=\"\"\"You are acting as a clinical intake specialist responsible for reviewing and summarizing a patient's medical case.\n",
        "\n",
        "Your responsibilities:\n",
        "1. Carefully read the symptoms, diagnosis, procedure, and notes with the right tool.\n",
        "2. Generate a medically accurate clinical summary (key points).\n",
        "3. Identify any additional risk factors or inferred clues from notes (e.g., “long flight” → immobility).\n",
        "4. Derive the clinical rationale for why the procedure may have been ordered.\n",
        "\n",
        "Your final message must clearly include:\n",
        "- A clinical summary\n",
        "- Key clinical findings (explicit or inferred)\n",
        "\n",
        "Present your output as if it’s being passed to a medical reviewer for decision-making.\n",
        "\"\"\"\n",
        ")"
      ]
    },
    {
      "cell_type": "code",
      "source": [
        "guideline_checker_agent = create_react_agent(\n",
        "    llm,\n",
        "    tools=[match_guideline,\n",
        "           check_guideline_validity],\n",
        "    prompt=\"\"\"You are a utilization review specialist evaluating whether a requested procedure is medically justified.\n",
        "\n",
        "Your responsibilities:\n",
        "1. Identify the most relevant clinical guideline based on the procedure and diagnosis.\n",
        "2. If a matching guideline is found, extract the required symptoms.\n",
        "3. Then use an appropriate tool to check the guideline validity for the patient using:\n",
        "   - the patient’s documented symptoms\n",
        "   - the required symptoms from the guideline\n",
        "   - clinical notes (from the intake summary)\n",
        "\n",
        "Guidance:\n",
        "- Use clinical reasoning to validate justification.\n",
        "- If symptoms and context meet the criteria, justify the procedure clearly.\n",
        "- If not, explain why the guideline requirements are not satisfied.\n",
        "- If no matching guideline is found, state that clearly.\n",
        "\n",
        "Your message should be clear, objective, and appropriate for escalation or approval review.\n",
        "\"\"\"\n",
        ")"
      ],
      "metadata": {
        "id": "D1O0rceFHuPc"
      },
      "id": "D1O0rceFHuPc",
      "execution_count": null,
      "outputs": []
    },
    {
      "cell_type": "code",
      "source": [
        "care_recommender_agent = create_react_agent(\n",
        "    llm,\n",
        "    tools=[recommend_care_plan],\n",
        "    prompt=\"\"\"\n",
        "You are a clinical care assistant responsible for recommending follow-up actions based on a confirmed diagnosis.\n",
        "\n",
        "Instructions:\n",
        "1. Consider the outputs from the intake and guideline checker agents.\n",
        "2. If the guideline checker has determined that the procedure is NOT justified, you must:\n",
        "   - Suggest alternate steps (e.g., reassess symptoms, collect more data), OR\n",
        "   - Justify why a care plan involving that procedure may still be warranted due to risk factors.\n",
        "3. If the guideline checker approved the procedure, proceed with care planning as usual.\n",
        "\n",
        "Important:\n",
        "- Always clarify whether your recommendation is based on an approved procedure or despite a failed guideline check.\n",
        "- Avoid assuming procedures are approved if guideline validation failed.\n",
        "\n",
        "Use precise clinical reasoning.\n",
        "\"\"\"\n",
        ")\n"
      ],
      "metadata": {
        "id": "22s_02sVI37e"
      },
      "id": "22s_02sVI37e",
      "execution_count": null,
      "outputs": []
    },
    {
      "cell_type": "markdown",
      "source": [
        "### Create Supervisor Agent Node Function"
      ],
      "metadata": {
        "id": "sLBWuDP-5esE"
      },
      "id": "sLBWuDP-5esE"
    },
    {
      "cell_type": "code",
      "source": [
        "from typing import Literal\n",
        "from typing import Annotated\n",
        "from typing_extensions import TypedDict\n",
        "from langgraph.graph.message import add_messages\n",
        "from langgraph.types import Command\n",
        "from langgraph.graph import StateGraph, START, END\n",
        "from langchain_core.messages import SystemMessage, HumanMessage, AIMessage\n",
        "\n",
        "# Define shared agents state\n",
        "class State(TypedDict):\n",
        "    messages: Annotated[list, add_messages]\n",
        "\n",
        "members = [\"clinical_intake_agent\",\n",
        "           \"guideline_checker_agent\",\n",
        "           \"care_recommender_agent\"]\n",
        "\n",
        "SUPERVISOR_PROMPT = f\"\"\"You are a supervisor agent tasked with managing a healthcare utilization review process\n",
        "between the following agents:\n",
        "{members}.\n",
        "\n",
        "Each agent performs a specific part of the review process:\n",
        "- clinical_intake_agent summarizes the patient's case and rationale\n",
        "- guideline_checker_agent evaluates medical necessity against clinical guidelines\n",
        "- care_recommender_agent suggests appropriate follow-up care\n",
        "\n",
        "Read the current messages. Decide who should act next.\n",
        "If the full workflow is complete, respond with FINISH.\n",
        "\"\"\"\n",
        "\n",
        "\n",
        "class RouterPath(TypedDict):\n",
        "    next: Literal[\"clinical_intake_agent\",\n",
        "                  \"guideline_checker_agent\",\n",
        "                  \"care_recommender_agent\",\n",
        "                  \"FINISH\"]\n",
        "\n",
        "def supervisor_node(state: State) -> Command[Literal[\"clinical_intake_agent\",\n",
        "                                                     \"guideline_checker_agent\",\n",
        "                                                     \"care_recommender_agent\",\n",
        "                                                     \"__end__\"]]:\n",
        "    messages = [SystemMessage(content=SUPERVISOR_PROMPT)] + state[\"messages\"]\n",
        "    response = llm.with_structured_output(RouterPath).invoke(messages)\n",
        "    goto = response[\"next\"]\n",
        "    if goto == \"FINISH\":\n",
        "        goto = END\n",
        "\n",
        "        FINAL_RESPONSE_PROMPT = \"\"\"Analyze all the results from the execution so far before making the final decision\n",
        "\n",
        "        Your final response should ONLY include the following bullets in the exact format specified:\n",
        "\n",
        "        - Final Decision: [APPROVED/NEEDS REVIEW]\n",
        "        - Decision Reasoning: [What criteria matched or did not match]\n",
        "        - Care recommendation or alternative steps: [care plan steps to take or alternative steps if it needs review]\n",
        "\n",
        "        Do NOT add any other extra content in the final response\n",
        "        \"\"\"\n",
        "        messages = [SystemMessage(content=FINAL_RESPONSE_PROMPT)] + state[\"messages\"]\n",
        "        response = llm.invoke(messages)\n",
        "\n",
        "        return Command(goto=goto, update={\"messages\": [AIMessage(content=response.content,\n",
        "                                                                name=\"supervisor_agent\")],\n",
        "                                          \"next\": goto})\n",
        "\n",
        "    return Command(goto=goto, update={\"next\": goto})"
      ],
      "metadata": {
        "id": "dTgVFunDJOfk"
      },
      "id": "dTgVFunDJOfk",
      "execution_count": null,
      "outputs": []
    },
    {
      "cell_type": "markdown",
      "source": [
        "### Create Sub-Agents Node Functions"
      ],
      "metadata": {
        "id": "otVctzVt5_cc"
      },
      "id": "otVctzVt5_cc"
    },
    {
      "cell_type": "code",
      "source": [
        "def clinical_intake_node(state: State) -> Command[Literal[\"supervisor_agent\"]]:\n",
        "    result = clinical_intake_agent.invoke(state)\n",
        "    return Command(\n",
        "        update={\"messages\": [AIMessage(content=result[\"messages\"][-1].content,\n",
        "                                          name=\"clinical_intake_agent\")]},\n",
        "        goto=\"supervisor_agent\"\n",
        "    )\n",
        "\n",
        "def guideline_checker_node(state: State) -> Command[Literal[\"supervisor_agent\"]]:\n",
        "    result = guideline_checker_agent.invoke(state)\n",
        "    return Command(\n",
        "        update={\"messages\": [AIMessage(content=result[\"messages\"][-1].content,\n",
        "                                          name=\"guideline_checker_agent\")]},\n",
        "        goto=\"supervisor_agent\"\n",
        "    )\n",
        "\n",
        "def care_recommender_node(state: State) -> Command[Literal[\"supervisor_agent\"]]:\n",
        "    result = care_recommender_agent.invoke(state)\n",
        "    return Command(\n",
        "        update={\"messages\": [AIMessage(content=result[\"messages\"][-1].content,\n",
        "                                          name=\"care_recommender_agent\")]},\n",
        "        goto=\"supervisor_agent\"\n",
        "    )"
      ],
      "metadata": {
        "id": "nDC9ZjBOLMhF"
      },
      "id": "nDC9ZjBOLMhF",
      "execution_count": null,
      "outputs": []
    },
    {
      "cell_type": "markdown",
      "source": [
        "### Build the Multi-Agent Graph"
      ],
      "metadata": {
        "id": "67Nq9ZnO6EN2"
      },
      "id": "67Nq9ZnO6EN2"
    },
    {
      "cell_type": "code",
      "source": [
        "graph_builder = StateGraph(State)\n",
        "\n",
        "graph_builder.add_node(\"supervisor_agent\", supervisor_node)\n",
        "graph_builder.add_node(\"clinical_intake_agent\", clinical_intake_node)\n",
        "graph_builder.add_node(\"guideline_checker_agent\", guideline_checker_node)\n",
        "graph_builder.add_node(\"care_recommender_agent\", care_recommender_node)\n",
        "\n",
        "graph_builder.add_edge(START, \"supervisor_agent\")\n",
        "\n",
        "multi_agent = graph_builder.compile()"
      ],
      "metadata": {
        "id": "Mp4TTHoALSyC"
      },
      "id": "Mp4TTHoALSyC",
      "execution_count": null,
      "outputs": []
    },
    {
      "cell_type": "code",
      "source": [
        "from IPython.display import Image, display\n",
        "\n",
        "display(Image(multi_agent.get_graph(xray=True).draw_mermaid_png()))"
      ],
      "metadata": {
        "id": "aVWq_tFeLZ4b"
      },
      "id": "aVWq_tFeLZ4b",
      "execution_count": null,
      "outputs": []
    },
    {
      "cell_type": "markdown",
      "source": [
        "### Get Agent Response Formatting Utilities"
      ],
      "metadata": {
        "id": "Usw753wYXldQ"
      },
      "id": "Usw753wYXldQ"
    },
    {
      "cell_type": "code",
      "source": [
        "!gdown 1dSyjcjlFoZpYEqv4P9Oi0-kU2gIoolMB"
      ],
      "metadata": {
        "id": "hu68_7ygXqlA"
      },
      "id": "hu68_7ygXqlA",
      "execution_count": null,
      "outputs": []
    },
    {
      "cell_type": "code",
      "source": [
        "from agent_utils import format_message\n",
        "from IPython.display import Markdown, display\n",
        "\n",
        "def call_agent_system(agent, prompt, verbose=False):\n",
        "\n",
        "    for event in agent.stream(\n",
        "        input={\"messages\": [{\"role\": \"user\", \"content\": prompt}]},\n",
        "        config={\"recursion_limit\": 25},\n",
        "        stream_mode='values' #returns full agent state with all messages including updates\n",
        "    ):\n",
        "        if verbose:\n",
        "            format_message(event[\"messages\"][-1])\n",
        "\n",
        "    print('\\n\\nFinal Response:\\n')\n",
        "    display(Markdown(event[\"messages\"][-1].content))\n",
        "    return event[\"messages\"]"
      ],
      "metadata": {
        "id": "LbX_4Gp5XrnE"
      },
      "id": "LbX_4Gp5XrnE",
      "execution_count": null,
      "outputs": []
    },
    {
      "cell_type": "markdown",
      "source": [
        "### Stream Agent Exeuction"
      ],
      "metadata": {
        "id": "Ro5Im8lt8SBu"
      },
      "id": "Ro5Im8lt8SBu"
    },
    {
      "cell_type": "code",
      "source": [
        "prompt = \"Review patient P101 for procedure justification.\"\n",
        "response = call_agent_system(multi_agent, prompt, verbose=True)"
      ],
      "metadata": {
        "id": "Vm62Ed9pMJEw"
      },
      "id": "Vm62Ed9pMJEw",
      "execution_count": null,
      "outputs": []
    },
    {
      "cell_type": "code",
      "source": [
        "prompt = \"Review patient P102 for procedure justification.\"\n",
        "response = call_agent_system(multi_agent, prompt, verbose=True)"
      ],
      "metadata": {
        "id": "iBJb_CmlSY1y"
      },
      "id": "iBJb_CmlSY1y",
      "execution_count": null,
      "outputs": []
    },
    {
      "cell_type": "code",
      "source": [
        "prompt = \"Review patient P103 for procedure justification.\"\n",
        "response = call_agent_system(multi_agent, prompt, verbose=False)"
      ],
      "metadata": {
        "id": "-75NfcqZZHI3"
      },
      "id": "-75NfcqZZHI3",
      "execution_count": null,
      "outputs": []
    }
  ],
  "metadata": {
    "colab": {
      "provenance": [],
      "include_colab_link": true
    },
    "language_info": {
      "name": "python"
    },
    "kernelspec": {
      "name": "python3",
      "display_name": "Python 3"
    }
  },
  "nbformat": 4,
  "nbformat_minor": 5
}